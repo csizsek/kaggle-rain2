{
 "cells": [
  {
   "cell_type": "code",
   "execution_count": 1,
   "metadata": {
    "collapsed": false
   },
   "outputs": [
    {
     "name": "stdout",
     "output_type": "stream",
     "text": [
      "Populating the interactive namespace from numpy and matplotlib\n"
     ]
    }
   ],
   "source": [
    "import pandas as pd\n",
    "import numpy as np\n",
    "from pandas import DataFrame, Series\n",
    "import matplotlib.pyplot as plt\n",
    "from pylab import rcParams\n",
    "%pylab inline\n",
    "rcParams['figure.figsize'] = 16, 8"
   ]
  },
  {
   "cell_type": "code",
   "execution_count": 2,
   "metadata": {
    "collapsed": false
   },
   "outputs": [],
   "source": [
    "tr = pd.read_csv('input/train.csv')"
   ]
  },
  {
   "cell_type": "code",
   "execution_count": 3,
   "metadata": {
    "collapsed": false
   },
   "outputs": [],
   "source": [
    "te = pd.read_csv('input/test.csv')\n",
    "te['Expected'] = -1\n",
    "te['Id'] += 10000000"
   ]
  },
  {
   "cell_type": "code",
   "execution_count": 4,
   "metadata": {
    "collapsed": false
   },
   "outputs": [],
   "source": [
    "d = pd.concat([tr, te])\n",
    "d.index = pd.Index(range(len(d)))"
   ]
  },
  {
   "cell_type": "code",
   "execution_count": 5,
   "metadata": {
    "collapsed": true
   },
   "outputs": [],
   "source": [
    "tr = None\n",
    "te = None"
   ]
  },
  {
   "cell_type": "code",
   "execution_count": 6,
   "metadata": {
    "collapsed": true
   },
   "outputs": [],
   "source": [
    "grouped = d.groupby('Id')"
   ]
  },
  {
   "cell_type": "code",
   "execution_count": 7,
   "metadata": {
    "collapsed": true
   },
   "outputs": [],
   "source": [
    "d = None"
   ]
  },
  {
   "cell_type": "code",
   "execution_count": 8,
   "metadata": {
    "collapsed": false
   },
   "outputs": [],
   "source": [
    "def aggregate_groups(group):\n",
    "    null_ratio = (1.0 * group.isnull().sum().sum()) / (len(group) * (len(group.columns) - 2))\n",
    "    vals = [\n",
    "        group['Id'].min(),\n",
    "        group['Expected'].mean(),\n",
    "        len(group),\n",
    "        null_ratio\n",
    "    ]\n",
    "    cols = [\n",
    "        'Id',\n",
    "        'Expected',\n",
    "        'cnt',\n",
    "        'null_ratio'\n",
    "    ]\n",
    "    for c in group.columns:\n",
    "        if c not in ['Expected', 'Id']:\n",
    "            vals.append(group[c].mean())\n",
    "            cols.append(c + '_mean')\n",
    "            vals.append(group[c].min())\n",
    "            cols.append(c + '_min')\n",
    "            vals.append(group[c].max())\n",
    "            cols.append(c + '_max')\n",
    "            vals.append(group[c].std())\n",
    "            cols.append(c + '_std')\n",
    "    id = group['Id'].min()\n",
    "    if id % 10000 == 0:\n",
    "        print id\n",
    "    return Series(vals, index=cols)"
   ]
  },
  {
   "cell_type": "code",
   "execution_count": 9,
   "metadata": {
    "collapsed": false
   },
   "outputs": [
    {
     "name": "stdout",
     "output_type": "stream",
     "text": [
      "10000\n",
      "20000\n",
      "30000\n",
      "40000\n",
      "50000\n",
      "60000\n",
      "70000\n",
      "80000\n",
      "90000\n",
      "100000\n",
      "110000\n",
      "120000\n",
      "130000\n",
      "140000\n",
      "150000\n",
      "160000\n",
      "170000\n",
      "180000\n",
      "190000\n",
      "200000\n",
      "210000\n",
      "220000\n",
      "230000\n",
      "240000\n",
      "250000\n",
      "260000\n",
      "270000\n",
      "280000\n",
      "290000\n",
      "300000\n",
      "310000\n",
      "320000\n",
      "330000\n",
      "340000\n",
      "350000\n",
      "360000\n",
      "370000\n",
      "380000\n",
      "390000\n",
      "400000\n",
      "410000\n",
      "420000\n",
      "430000\n",
      "440000\n",
      "450000\n",
      "460000\n",
      "470000\n",
      "480000\n",
      "490000\n",
      "500000\n",
      "510000\n",
      "520000\n",
      "530000\n",
      "540000\n",
      "550000\n",
      "560000\n",
      "570000\n",
      "580000\n",
      "590000\n",
      "600000\n",
      "610000\n",
      "620000\n",
      "630000\n",
      "640000\n",
      "650000\n",
      "660000\n",
      "670000\n",
      "680000\n",
      "690000\n",
      "700000\n",
      "710000\n",
      "720000\n",
      "730000\n",
      "740000\n",
      "750000\n",
      "760000\n",
      "770000\n",
      "780000\n",
      "790000\n",
      "800000\n",
      "810000\n",
      "820000\n",
      "830000\n",
      "840000\n",
      "850000\n",
      "860000\n",
      "870000\n",
      "880000\n",
      "890000\n",
      "900000\n",
      "910000\n",
      "920000\n",
      "930000\n",
      "940000\n",
      "950000\n",
      "960000\n",
      "970000\n",
      "980000\n",
      "990000\n",
      "1000000\n",
      "1010000\n",
      "1020000\n",
      "1030000\n",
      "1040000\n",
      "1050000\n",
      "1060000\n",
      "1070000\n",
      "1080000\n",
      "1090000\n",
      "1100000\n",
      "1110000\n",
      "1120000\n",
      "1130000\n",
      "1140000\n",
      "1150000\n",
      "1160000\n",
      "1170000\n",
      "1180000\n",
      "10010000\n",
      "10020000\n",
      "10030000\n",
      "10040000\n",
      "10050000\n",
      "10060000\n",
      "10070000\n",
      "10080000\n",
      "10090000\n",
      "10100000\n",
      "10110000\n",
      "10120000\n",
      "10130000\n",
      "10140000\n",
      "10150000\n",
      "10160000\n",
      "10170000\n",
      "10180000\n",
      "10190000\n",
      "10200000\n",
      "10210000\n",
      "10220000\n",
      "10230000\n",
      "10240000\n",
      "10250000\n",
      "10260000\n",
      "10270000\n",
      "10280000\n",
      "10290000\n",
      "10300000\n",
      "10310000\n",
      "10320000\n",
      "10330000\n",
      "10340000\n",
      "10350000\n",
      "10360000\n",
      "10370000\n",
      "10380000\n",
      "10390000\n",
      "10400000\n",
      "10410000\n",
      "10420000\n",
      "10430000\n",
      "10440000\n",
      "10450000\n",
      "10460000\n",
      "10470000\n",
      "10480000\n",
      "10490000\n",
      "10500000\n",
      "10510000\n",
      "10520000\n",
      "10530000\n",
      "10540000\n",
      "10550000\n",
      "10560000\n",
      "10570000\n",
      "10580000\n",
      "10590000\n",
      "10600000\n",
      "10610000\n",
      "10620000\n",
      "10630000\n",
      "10640000\n",
      "10650000\n",
      "10660000\n",
      "10670000\n",
      "10680000\n",
      "10690000\n",
      "10700000\n",
      "10710000\n"
     ]
    }
   ],
   "source": [
    "g = grouped.apply(aggregate_groups)"
   ]
  },
  {
   "cell_type": "code",
   "execution_count": 10,
   "metadata": {
    "collapsed": true
   },
   "outputs": [],
   "source": [
    "grouped = None"
   ]
  },
  {
   "cell_type": "code",
   "execution_count": 11,
   "metadata": {
    "collapsed": true
   },
   "outputs": [],
   "source": [
    "g.to_csv('tmp/grouped.csv', index=False)"
   ]
  }
 ],
 "metadata": {
  "kernelspec": {
   "display_name": "Python 2",
   "language": "python",
   "name": "python2"
  },
  "language_info": {
   "codemirror_mode": {
    "name": "ipython",
    "version": 2
   },
   "file_extension": ".py",
   "mimetype": "text/x-python",
   "name": "python",
   "nbconvert_exporter": "python",
   "pygments_lexer": "ipython2",
   "version": "2.7.10"
  }
 },
 "nbformat": 4,
 "nbformat_minor": 0
}
