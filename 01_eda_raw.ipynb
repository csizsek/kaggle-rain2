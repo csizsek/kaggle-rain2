{
 "cells": [
  {
   "cell_type": "code",
   "execution_count": 35,
   "metadata": {
    "collapsed": false
   },
   "outputs": [
    {
     "name": "stdout",
     "output_type": "stream",
     "text": [
      "Populating the interactive namespace from numpy and matplotlib\n"
     ]
    }
   ],
   "source": [
    "import pandas as pd\n",
    "import numpy as np\n",
    "from pandas import DataFrame, Series\n",
    "import matplotlib.pyplot as plt\n",
    "from pylab import rcParams\n",
    "%pylab inline\n",
    "rcParams['figure.figsize'] = 16, 8"
   ]
  },
  {
   "cell_type": "code",
   "execution_count": 36,
   "metadata": {
    "collapsed": true
   },
   "outputs": [],
   "source": [
    "tr = pd.read_csv('input/train.csv', nrows=199994)\n",
    "te = pd.read_csv('input/test.csv', nrows=99988)"
   ]
  },
  {
   "cell_type": "code",
   "execution_count": 37,
   "metadata": {
    "collapsed": false
   },
   "outputs": [
    {
     "name": "stdout",
     "output_type": "stream",
     "text": [
      "<class 'pandas.core.frame.DataFrame'>\n",
      "Int64Index: 199994 entries, 0 to 199993\n",
      "Data columns (total 24 columns):\n",
      "Id                       199994 non-null int64\n",
      "minutes_past             199994 non-null int64\n",
      "radardist_km             199994 non-null float64\n",
      "Ref                      97574 non-null float64\n",
      "Ref_5x5_10th             83369 non-null float64\n",
      "Ref_5x5_50th             97808 non-null float64\n",
      "Ref_5x5_90th             114229 non-null float64\n",
      "RefComposite             104212 non-null float64\n",
      "RefComposite_5x5_10th    91715 non-null float64\n",
      "RefComposite_5x5_50th    104264 non-null float64\n",
      "RefComposite_5x5_90th    119009 non-null float64\n",
      "RhoHV                    72859 non-null float64\n",
      "RhoHV_5x5_10th           62227 non-null float64\n",
      "RhoHV_5x5_50th           72796 non-null float64\n",
      "RhoHV_5x5_90th           85547 non-null float64\n",
      "Zdr                      72859 non-null float64\n",
      "Zdr_5x5_10th             62227 non-null float64\n",
      "Zdr_5x5_50th             72796 non-null float64\n",
      "Zdr_5x5_90th             85547 non-null float64\n",
      "Kdp                      63248 non-null float64\n",
      "Kdp_5x5_10th             53442 non-null float64\n",
      "Kdp_5x5_50th             63324 non-null float64\n",
      "Kdp_5x5_90th             74197 non-null float64\n",
      "Expected                 199994 non-null float64\n",
      "dtypes: float64(22), int64(2)\n",
      "memory usage: 38.1 MB\n"
     ]
    }
   ],
   "source": [
    "tr.info()"
   ]
  },
  {
   "cell_type": "code",
   "execution_count": 38,
   "metadata": {
    "collapsed": false
   },
   "outputs": [
    {
     "data": {
      "text/html": [
       "<div>\n",
       "<table border=\"1\" class=\"dataframe\">\n",
       "  <thead>\n",
       "    <tr style=\"text-align: right;\">\n",
       "      <th></th>\n",
       "      <th>count</th>\n",
       "      <th>mean</th>\n",
       "      <th>std</th>\n",
       "      <th>min</th>\n",
       "      <th>25%</th>\n",
       "      <th>50%</th>\n",
       "      <th>75%</th>\n",
       "      <th>max</th>\n",
       "    </tr>\n",
       "  </thead>\n",
       "  <tbody>\n",
       "    <tr>\n",
       "      <th>Id</th>\n",
       "      <td>199994</td>\n",
       "      <td>9214.831860</td>\n",
       "      <td>5129.474944</td>\n",
       "      <td>1.000000</td>\n",
       "      <td>4776.000000</td>\n",
       "      <td>9541.000000</td>\n",
       "      <td>13652.000000</td>\n",
       "      <td>17725.000000</td>\n",
       "    </tr>\n",
       "    <tr>\n",
       "      <th>minutes_past</th>\n",
       "      <td>199994</td>\n",
       "      <td>29.695846</td>\n",
       "      <td>17.323651</td>\n",
       "      <td>0.000000</td>\n",
       "      <td>15.000000</td>\n",
       "      <td>30.000000</td>\n",
       "      <td>45.000000</td>\n",
       "      <td>59.000000</td>\n",
       "    </tr>\n",
       "    <tr>\n",
       "      <th>radardist_km</th>\n",
       "      <td>199994</td>\n",
       "      <td>11.140124</td>\n",
       "      <td>4.154986</td>\n",
       "      <td>0.000000</td>\n",
       "      <td>9.000000</td>\n",
       "      <td>12.000000</td>\n",
       "      <td>14.000000</td>\n",
       "      <td>21.000000</td>\n",
       "    </tr>\n",
       "    <tr>\n",
       "      <th>Ref</th>\n",
       "      <td>97574</td>\n",
       "      <td>24.488491</td>\n",
       "      <td>10.644875</td>\n",
       "      <td>-29.000000</td>\n",
       "      <td>17.500000</td>\n",
       "      <td>24.500000</td>\n",
       "      <td>31.000000</td>\n",
       "      <td>66.000000</td>\n",
       "    </tr>\n",
       "    <tr>\n",
       "      <th>Ref_5x5_10th</th>\n",
       "      <td>83369</td>\n",
       "      <td>21.326794</td>\n",
       "      <td>9.311035</td>\n",
       "      <td>-31.500000</td>\n",
       "      <td>16.000000</td>\n",
       "      <td>21.500000</td>\n",
       "      <td>27.000000</td>\n",
       "      <td>57.000000</td>\n",
       "    </tr>\n",
       "    <tr>\n",
       "      <th>Ref_5x5_50th</th>\n",
       "      <td>97808</td>\n",
       "      <td>24.181243</td>\n",
       "      <td>10.318548</td>\n",
       "      <td>-31.500000</td>\n",
       "      <td>18.000000</td>\n",
       "      <td>24.000000</td>\n",
       "      <td>31.000000</td>\n",
       "      <td>61.500000</td>\n",
       "    </tr>\n",
       "    <tr>\n",
       "      <th>Ref_5x5_90th</th>\n",
       "      <td>114229</td>\n",
       "      <td>27.502959</td>\n",
       "      <td>11.619975</td>\n",
       "      <td>-26.500000</td>\n",
       "      <td>20.000000</td>\n",
       "      <td>27.500000</td>\n",
       "      <td>35.000000</td>\n",
       "      <td>67.500000</td>\n",
       "    </tr>\n",
       "    <tr>\n",
       "      <th>RefComposite</th>\n",
       "      <td>104212</td>\n",
       "      <td>26.152751</td>\n",
       "      <td>10.909081</td>\n",
       "      <td>-26.500000</td>\n",
       "      <td>19.000000</td>\n",
       "      <td>26.000000</td>\n",
       "      <td>33.000000</td>\n",
       "      <td>68.000000</td>\n",
       "    </tr>\n",
       "    <tr>\n",
       "      <th>RefComposite_5x5_10th</th>\n",
       "      <td>91715</td>\n",
       "      <td>23.429941</td>\n",
       "      <td>9.682045</td>\n",
       "      <td>-27.500000</td>\n",
       "      <td>17.500000</td>\n",
       "      <td>23.500000</td>\n",
       "      <td>29.500000</td>\n",
       "      <td>59.500000</td>\n",
       "    </tr>\n",
       "    <tr>\n",
       "      <th>RefComposite_5x5_50th</th>\n",
       "      <td>104264</td>\n",
       "      <td>25.888605</td>\n",
       "      <td>10.643156</td>\n",
       "      <td>-25.000000</td>\n",
       "      <td>19.000000</td>\n",
       "      <td>25.500000</td>\n",
       "      <td>33.000000</td>\n",
       "      <td>64.000000</td>\n",
       "    </tr>\n",
       "    <tr>\n",
       "      <th>RefComposite_5x5_90th</th>\n",
       "      <td>119009</td>\n",
       "      <td>28.950281</td>\n",
       "      <td>11.886581</td>\n",
       "      <td>-23.000000</td>\n",
       "      <td>21.000000</td>\n",
       "      <td>29.000000</td>\n",
       "      <td>37.000000</td>\n",
       "      <td>82.500000</td>\n",
       "    </tr>\n",
       "    <tr>\n",
       "      <th>RhoHV</th>\n",
       "      <td>72859</td>\n",
       "      <td>0.975273</td>\n",
       "      <td>0.084326</td>\n",
       "      <td>0.208333</td>\n",
       "      <td>0.971667</td>\n",
       "      <td>0.991667</td>\n",
       "      <td>1.001667</td>\n",
       "      <td>1.051667</td>\n",
       "    </tr>\n",
       "    <tr>\n",
       "      <th>RhoHV_5x5_10th</th>\n",
       "      <td>62227</td>\n",
       "      <td>0.925090</td>\n",
       "      <td>0.117076</td>\n",
       "      <td>0.208333</td>\n",
       "      <td>0.918333</td>\n",
       "      <td>0.961667</td>\n",
       "      <td>0.985000</td>\n",
       "      <td>1.051667</td>\n",
       "    </tr>\n",
       "    <tr>\n",
       "      <th>RhoHV_5x5_50th</th>\n",
       "      <td>72796</td>\n",
       "      <td>0.977212</td>\n",
       "      <td>0.067728</td>\n",
       "      <td>0.208333</td>\n",
       "      <td>0.975000</td>\n",
       "      <td>0.991667</td>\n",
       "      <td>0.998333</td>\n",
       "      <td>1.051667</td>\n",
       "    </tr>\n",
       "    <tr>\n",
       "      <th>RhoHV_5x5_90th</th>\n",
       "      <td>85547</td>\n",
       "      <td>1.014587</td>\n",
       "      <td>0.046857</td>\n",
       "      <td>0.208333</td>\n",
       "      <td>0.998333</td>\n",
       "      <td>1.008333</td>\n",
       "      <td>1.051667</td>\n",
       "      <td>1.051667</td>\n",
       "    </tr>\n",
       "    <tr>\n",
       "      <th>Zdr</th>\n",
       "      <td>72859</td>\n",
       "      <td>0.575390</td>\n",
       "      <td>1.475143</td>\n",
       "      <td>-7.875000</td>\n",
       "      <td>-0.187500</td>\n",
       "      <td>0.437500</td>\n",
       "      <td>1.125000</td>\n",
       "      <td>7.937500</td>\n",
       "    </tr>\n",
       "    <tr>\n",
       "      <th>Zdr_5x5_10th</th>\n",
       "      <td>62227</td>\n",
       "      <td>-0.630195</td>\n",
       "      <td>1.013692</td>\n",
       "      <td>-7.875000</td>\n",
       "      <td>-1.062500</td>\n",
       "      <td>-0.562500</td>\n",
       "      <td>-0.062500</td>\n",
       "      <td>7.937500</td>\n",
       "    </tr>\n",
       "    <tr>\n",
       "      <th>Zdr_5x5_50th</th>\n",
       "      <td>72796</td>\n",
       "      <td>0.399341</td>\n",
       "      <td>0.930606</td>\n",
       "      <td>-7.875000</td>\n",
       "      <td>0.000000</td>\n",
       "      <td>0.312500</td>\n",
       "      <td>0.750000</td>\n",
       "      <td>7.937500</td>\n",
       "    </tr>\n",
       "    <tr>\n",
       "      <th>Zdr_5x5_90th</th>\n",
       "      <td>85547</td>\n",
       "      <td>2.055960</td>\n",
       "      <td>1.660722</td>\n",
       "      <td>-7.875000</td>\n",
       "      <td>1.062500</td>\n",
       "      <td>1.687500</td>\n",
       "      <td>2.562500</td>\n",
       "      <td>7.937500</td>\n",
       "    </tr>\n",
       "    <tr>\n",
       "      <th>Kdp</th>\n",
       "      <td>63248</td>\n",
       "      <td>0.042355</td>\n",
       "      <td>3.754670</td>\n",
       "      <td>-52.880005</td>\n",
       "      <td>-1.410004</td>\n",
       "      <td>0.000000</td>\n",
       "      <td>1.409988</td>\n",
       "      <td>50.330000</td>\n",
       "    </tr>\n",
       "    <tr>\n",
       "      <th>Kdp_5x5_10th</th>\n",
       "      <td>53442</td>\n",
       "      <td>-3.361111</td>\n",
       "      <td>2.704006</td>\n",
       "      <td>-60.910004</td>\n",
       "      <td>-4.230011</td>\n",
       "      <td>-2.809998</td>\n",
       "      <td>-1.750000</td>\n",
       "      <td>1.759994</td>\n",
       "    </tr>\n",
       "    <tr>\n",
       "      <th>Kdp_5x5_50th</th>\n",
       "      <td>63324</td>\n",
       "      <td>-0.391068</td>\n",
       "      <td>2.085824</td>\n",
       "      <td>-46.870010</td>\n",
       "      <td>-0.710007</td>\n",
       "      <td>0.000000</td>\n",
       "      <td>0.349991</td>\n",
       "      <td>7.729996</td>\n",
       "    </tr>\n",
       "    <tr>\n",
       "      <th>Kdp_5x5_90th</th>\n",
       "      <td>74197</td>\n",
       "      <td>4.004929</td>\n",
       "      <td>3.884646</td>\n",
       "      <td>-52.940002</td>\n",
       "      <td>2.069992</td>\n",
       "      <td>3.429993</td>\n",
       "      <td>5.550003</td>\n",
       "      <td>62.470000</td>\n",
       "    </tr>\n",
       "    <tr>\n",
       "      <th>Expected</th>\n",
       "      <td>199994</td>\n",
       "      <td>115.931132</td>\n",
       "      <td>640.801899</td>\n",
       "      <td>0.010000</td>\n",
       "      <td>0.254000</td>\n",
       "      <td>1.016000</td>\n",
       "      <td>4.064002</td>\n",
       "      <td>32740.617000</td>\n",
       "    </tr>\n",
       "  </tbody>\n",
       "</table>\n",
       "</div>"
      ],
      "text/plain": [
       "                        count         mean          std        min  \\\n",
       "Id                     199994  9214.831860  5129.474944   1.000000   \n",
       "minutes_past           199994    29.695846    17.323651   0.000000   \n",
       "radardist_km           199994    11.140124     4.154986   0.000000   \n",
       "Ref                     97574    24.488491    10.644875 -29.000000   \n",
       "Ref_5x5_10th            83369    21.326794     9.311035 -31.500000   \n",
       "Ref_5x5_50th            97808    24.181243    10.318548 -31.500000   \n",
       "Ref_5x5_90th           114229    27.502959    11.619975 -26.500000   \n",
       "RefComposite           104212    26.152751    10.909081 -26.500000   \n",
       "RefComposite_5x5_10th   91715    23.429941     9.682045 -27.500000   \n",
       "RefComposite_5x5_50th  104264    25.888605    10.643156 -25.000000   \n",
       "RefComposite_5x5_90th  119009    28.950281    11.886581 -23.000000   \n",
       "RhoHV                   72859     0.975273     0.084326   0.208333   \n",
       "RhoHV_5x5_10th          62227     0.925090     0.117076   0.208333   \n",
       "RhoHV_5x5_50th          72796     0.977212     0.067728   0.208333   \n",
       "RhoHV_5x5_90th          85547     1.014587     0.046857   0.208333   \n",
       "Zdr                     72859     0.575390     1.475143  -7.875000   \n",
       "Zdr_5x5_10th            62227    -0.630195     1.013692  -7.875000   \n",
       "Zdr_5x5_50th            72796     0.399341     0.930606  -7.875000   \n",
       "Zdr_5x5_90th            85547     2.055960     1.660722  -7.875000   \n",
       "Kdp                     63248     0.042355     3.754670 -52.880005   \n",
       "Kdp_5x5_10th            53442    -3.361111     2.704006 -60.910004   \n",
       "Kdp_5x5_50th            63324    -0.391068     2.085824 -46.870010   \n",
       "Kdp_5x5_90th            74197     4.004929     3.884646 -52.940002   \n",
       "Expected               199994   115.931132   640.801899   0.010000   \n",
       "\n",
       "                               25%          50%           75%           max  \n",
       "Id                     4776.000000  9541.000000  13652.000000  17725.000000  \n",
       "minutes_past             15.000000    30.000000     45.000000     59.000000  \n",
       "radardist_km              9.000000    12.000000     14.000000     21.000000  \n",
       "Ref                      17.500000    24.500000     31.000000     66.000000  \n",
       "Ref_5x5_10th             16.000000    21.500000     27.000000     57.000000  \n",
       "Ref_5x5_50th             18.000000    24.000000     31.000000     61.500000  \n",
       "Ref_5x5_90th             20.000000    27.500000     35.000000     67.500000  \n",
       "RefComposite             19.000000    26.000000     33.000000     68.000000  \n",
       "RefComposite_5x5_10th    17.500000    23.500000     29.500000     59.500000  \n",
       "RefComposite_5x5_50th    19.000000    25.500000     33.000000     64.000000  \n",
       "RefComposite_5x5_90th    21.000000    29.000000     37.000000     82.500000  \n",
       "RhoHV                     0.971667     0.991667      1.001667      1.051667  \n",
       "RhoHV_5x5_10th            0.918333     0.961667      0.985000      1.051667  \n",
       "RhoHV_5x5_50th            0.975000     0.991667      0.998333      1.051667  \n",
       "RhoHV_5x5_90th            0.998333     1.008333      1.051667      1.051667  \n",
       "Zdr                      -0.187500     0.437500      1.125000      7.937500  \n",
       "Zdr_5x5_10th             -1.062500    -0.562500     -0.062500      7.937500  \n",
       "Zdr_5x5_50th              0.000000     0.312500      0.750000      7.937500  \n",
       "Zdr_5x5_90th              1.062500     1.687500      2.562500      7.937500  \n",
       "Kdp                      -1.410004     0.000000      1.409988     50.330000  \n",
       "Kdp_5x5_10th             -4.230011    -2.809998     -1.750000      1.759994  \n",
       "Kdp_5x5_50th             -0.710007     0.000000      0.349991      7.729996  \n",
       "Kdp_5x5_90th              2.069992     3.429993      5.550003     62.470000  \n",
       "Expected                  0.254000     1.016000      4.064002  32740.617000  "
      ]
     },
     "execution_count": 38,
     "metadata": {},
     "output_type": "execute_result"
    }
   ],
   "source": [
    "tr.describe().T"
   ]
  },
  {
   "cell_type": "code",
   "execution_count": 39,
   "metadata": {
    "collapsed": false
   },
   "outputs": [
    {
     "name": "stdout",
     "output_type": "stream",
     "text": [
      "<class 'pandas.core.frame.DataFrame'>\n",
      "Int64Index: 99988 entries, 0 to 99987\n",
      "Data columns (total 23 columns):\n",
      "Id                       99988 non-null int64\n",
      "minutes_past             99988 non-null int64\n",
      "radardist_km             99988 non-null float64\n",
      "Ref                      36270 non-null float64\n",
      "Ref_5x5_10th             29106 non-null float64\n",
      "Ref_5x5_50th             36042 non-null float64\n",
      "Ref_5x5_90th             44483 non-null float64\n",
      "RefComposite             38446 non-null float64\n",
      "RefComposite_5x5_10th    31702 non-null float64\n",
      "RefComposite_5x5_50th    38130 non-null float64\n",
      "RefComposite_5x5_90th    46271 non-null float64\n",
      "RhoHV                    28142 non-null float64\n",
      "RhoHV_5x5_10th           23135 non-null float64\n",
      "RhoHV_5x5_50th           28130 non-null float64\n",
      "RhoHV_5x5_90th           34353 non-null float64\n",
      "Zdr                      28142 non-null float64\n",
      "Zdr_5x5_10th             23135 non-null float64\n",
      "Zdr_5x5_50th             28130 non-null float64\n",
      "Zdr_5x5_90th             34353 non-null float64\n",
      "Kdp                      24376 non-null float64\n",
      "Kdp_5x5_10th             19381 non-null float64\n",
      "Kdp_5x5_50th             24426 non-null float64\n",
      "Kdp_5x5_90th             29612 non-null float64\n",
      "dtypes: float64(21), int64(2)\n",
      "memory usage: 18.3 MB\n"
     ]
    }
   ],
   "source": [
    "te.info()"
   ]
  },
  {
   "cell_type": "code",
   "execution_count": 40,
   "metadata": {
    "collapsed": false
   },
   "outputs": [
    {
     "name": "stdout",
     "output_type": "stream",
     "text": [
      "<class 'pandas.core.frame.DataFrame'>\n",
      "Int64Index: 299982 entries, 0 to 299981\n",
      "Data columns (total 24 columns):\n",
      "Id                       299982 non-null int64\n",
      "minutes_past             299982 non-null int64\n",
      "radardist_km             299982 non-null float64\n",
      "Ref                      133844 non-null float64\n",
      "Ref_5x5_10th             112475 non-null float64\n",
      "Ref_5x5_50th             133850 non-null float64\n",
      "Ref_5x5_90th             158712 non-null float64\n",
      "RefComposite             142658 non-null float64\n",
      "RefComposite_5x5_10th    123417 non-null float64\n",
      "RefComposite_5x5_50th    142394 non-null float64\n",
      "RefComposite_5x5_90th    165280 non-null float64\n",
      "RhoHV                    101001 non-null float64\n",
      "RhoHV_5x5_10th           85362 non-null float64\n",
      "RhoHV_5x5_50th           100926 non-null float64\n",
      "RhoHV_5x5_90th           119900 non-null float64\n",
      "Zdr                      101001 non-null float64\n",
      "Zdr_5x5_10th             85362 non-null float64\n",
      "Zdr_5x5_50th             100926 non-null float64\n",
      "Zdr_5x5_90th             119900 non-null float64\n",
      "Kdp                      87624 non-null float64\n",
      "Kdp_5x5_10th             72823 non-null float64\n",
      "Kdp_5x5_50th             87750 non-null float64\n",
      "Kdp_5x5_90th             103809 non-null float64\n",
      "Expected                 299982 non-null float64\n",
      "dtypes: float64(22), int64(2)\n",
      "memory usage: 57.2 MB\n"
     ]
    }
   ],
   "source": [
    "te['Expected'] = -1.0\n",
    "d = pd.concat([tr, te])\n",
    "d.index = pd.Index(range(len(d)))\n",
    "tr = None\n",
    "te = None\n",
    "d.info()"
   ]
  },
  {
   "cell_type": "code",
   "execution_count": 41,
   "metadata": {
    "collapsed": false
   },
   "outputs": [
    {
     "data": {
      "text/html": [
       "<div>\n",
       "<table border=\"1\" class=\"dataframe\">\n",
       "  <thead>\n",
       "    <tr style=\"text-align: right;\">\n",
       "      <th></th>\n",
       "      <th>0</th>\n",
       "      <th>1</th>\n",
       "      <th>2</th>\n",
       "      <th>3</th>\n",
       "      <th>4</th>\n",
       "      <th>5</th>\n",
       "      <th>6</th>\n",
       "      <th>7</th>\n",
       "      <th>8</th>\n",
       "      <th>9</th>\n",
       "    </tr>\n",
       "  </thead>\n",
       "  <tbody>\n",
       "    <tr>\n",
       "      <th>Id</th>\n",
       "      <td>1.000</td>\n",
       "      <td>1.000</td>\n",
       "      <td>1.000</td>\n",
       "      <td>1.000</td>\n",
       "      <td>1.000</td>\n",
       "      <td>1.000</td>\n",
       "      <td>2.000000</td>\n",
       "      <td>2.000000</td>\n",
       "      <td>2.000000</td>\n",
       "      <td>2.000000</td>\n",
       "    </tr>\n",
       "    <tr>\n",
       "      <th>minutes_past</th>\n",
       "      <td>3.000</td>\n",
       "      <td>16.000</td>\n",
       "      <td>25.000</td>\n",
       "      <td>35.000</td>\n",
       "      <td>45.000</td>\n",
       "      <td>55.000</td>\n",
       "      <td>1.000000</td>\n",
       "      <td>6.000000</td>\n",
       "      <td>11.000000</td>\n",
       "      <td>16.000000</td>\n",
       "    </tr>\n",
       "    <tr>\n",
       "      <th>radardist_km</th>\n",
       "      <td>10.000</td>\n",
       "      <td>10.000</td>\n",
       "      <td>10.000</td>\n",
       "      <td>10.000</td>\n",
       "      <td>10.000</td>\n",
       "      <td>10.000</td>\n",
       "      <td>2.000000</td>\n",
       "      <td>2.000000</td>\n",
       "      <td>2.000000</td>\n",
       "      <td>2.000000</td>\n",
       "    </tr>\n",
       "    <tr>\n",
       "      <th>Ref</th>\n",
       "      <td>NaN</td>\n",
       "      <td>NaN</td>\n",
       "      <td>NaN</td>\n",
       "      <td>NaN</td>\n",
       "      <td>NaN</td>\n",
       "      <td>NaN</td>\n",
       "      <td>9.000000</td>\n",
       "      <td>26.500000</td>\n",
       "      <td>21.500000</td>\n",
       "      <td>18.000000</td>\n",
       "    </tr>\n",
       "    <tr>\n",
       "      <th>Ref_5x5_10th</th>\n",
       "      <td>NaN</td>\n",
       "      <td>NaN</td>\n",
       "      <td>NaN</td>\n",
       "      <td>NaN</td>\n",
       "      <td>NaN</td>\n",
       "      <td>NaN</td>\n",
       "      <td>5.000000</td>\n",
       "      <td>22.500000</td>\n",
       "      <td>15.500000</td>\n",
       "      <td>14.000000</td>\n",
       "    </tr>\n",
       "    <tr>\n",
       "      <th>Ref_5x5_50th</th>\n",
       "      <td>NaN</td>\n",
       "      <td>NaN</td>\n",
       "      <td>NaN</td>\n",
       "      <td>NaN</td>\n",
       "      <td>NaN</td>\n",
       "      <td>NaN</td>\n",
       "      <td>7.500000</td>\n",
       "      <td>25.500000</td>\n",
       "      <td>20.500000</td>\n",
       "      <td>17.500000</td>\n",
       "    </tr>\n",
       "    <tr>\n",
       "      <th>Ref_5x5_90th</th>\n",
       "      <td>NaN</td>\n",
       "      <td>NaN</td>\n",
       "      <td>NaN</td>\n",
       "      <td>NaN</td>\n",
       "      <td>NaN</td>\n",
       "      <td>NaN</td>\n",
       "      <td>10.500000</td>\n",
       "      <td>31.500000</td>\n",
       "      <td>25.000000</td>\n",
       "      <td>21.000000</td>\n",
       "    </tr>\n",
       "    <tr>\n",
       "      <th>RefComposite</th>\n",
       "      <td>NaN</td>\n",
       "      <td>NaN</td>\n",
       "      <td>NaN</td>\n",
       "      <td>NaN</td>\n",
       "      <td>NaN</td>\n",
       "      <td>NaN</td>\n",
       "      <td>15.000000</td>\n",
       "      <td>26.500000</td>\n",
       "      <td>26.500000</td>\n",
       "      <td>20.500000</td>\n",
       "    </tr>\n",
       "    <tr>\n",
       "      <th>RefComposite_5x5_10th</th>\n",
       "      <td>NaN</td>\n",
       "      <td>NaN</td>\n",
       "      <td>NaN</td>\n",
       "      <td>NaN</td>\n",
       "      <td>NaN</td>\n",
       "      <td>NaN</td>\n",
       "      <td>10.500000</td>\n",
       "      <td>26.500000</td>\n",
       "      <td>23.500000</td>\n",
       "      <td>18.000000</td>\n",
       "    </tr>\n",
       "    <tr>\n",
       "      <th>RefComposite_5x5_50th</th>\n",
       "      <td>NaN</td>\n",
       "      <td>NaN</td>\n",
       "      <td>NaN</td>\n",
       "      <td>NaN</td>\n",
       "      <td>NaN</td>\n",
       "      <td>NaN</td>\n",
       "      <td>16.500000</td>\n",
       "      <td>28.500000</td>\n",
       "      <td>25.000000</td>\n",
       "      <td>20.500000</td>\n",
       "    </tr>\n",
       "    <tr>\n",
       "      <th>RefComposite_5x5_90th</th>\n",
       "      <td>NaN</td>\n",
       "      <td>NaN</td>\n",
       "      <td>NaN</td>\n",
       "      <td>NaN</td>\n",
       "      <td>NaN</td>\n",
       "      <td>NaN</td>\n",
       "      <td>23.500000</td>\n",
       "      <td>32.000000</td>\n",
       "      <td>27.000000</td>\n",
       "      <td>23.000000</td>\n",
       "    </tr>\n",
       "    <tr>\n",
       "      <th>RhoHV</th>\n",
       "      <td>NaN</td>\n",
       "      <td>NaN</td>\n",
       "      <td>NaN</td>\n",
       "      <td>NaN</td>\n",
       "      <td>NaN</td>\n",
       "      <td>NaN</td>\n",
       "      <td>0.998333</td>\n",
       "      <td>1.001667</td>\n",
       "      <td>1.001667</td>\n",
       "      <td>0.995000</td>\n",
       "    </tr>\n",
       "    <tr>\n",
       "      <th>RhoHV_5x5_10th</th>\n",
       "      <td>NaN</td>\n",
       "      <td>NaN</td>\n",
       "      <td>NaN</td>\n",
       "      <td>NaN</td>\n",
       "      <td>NaN</td>\n",
       "      <td>NaN</td>\n",
       "      <td>0.998333</td>\n",
       "      <td>0.981667</td>\n",
       "      <td>0.995000</td>\n",
       "      <td>0.995000</td>\n",
       "    </tr>\n",
       "    <tr>\n",
       "      <th>RhoHV_5x5_50th</th>\n",
       "      <td>NaN</td>\n",
       "      <td>NaN</td>\n",
       "      <td>NaN</td>\n",
       "      <td>NaN</td>\n",
       "      <td>NaN</td>\n",
       "      <td>NaN</td>\n",
       "      <td>0.998333</td>\n",
       "      <td>0.998333</td>\n",
       "      <td>0.998333</td>\n",
       "      <td>0.998333</td>\n",
       "    </tr>\n",
       "    <tr>\n",
       "      <th>RhoHV_5x5_90th</th>\n",
       "      <td>NaN</td>\n",
       "      <td>NaN</td>\n",
       "      <td>NaN</td>\n",
       "      <td>NaN</td>\n",
       "      <td>NaN</td>\n",
       "      <td>NaN</td>\n",
       "      <td>0.998333</td>\n",
       "      <td>1.005000</td>\n",
       "      <td>1.001667</td>\n",
       "      <td>1.001667</td>\n",
       "    </tr>\n",
       "    <tr>\n",
       "      <th>Zdr</th>\n",
       "      <td>NaN</td>\n",
       "      <td>NaN</td>\n",
       "      <td>NaN</td>\n",
       "      <td>NaN</td>\n",
       "      <td>NaN</td>\n",
       "      <td>NaN</td>\n",
       "      <td>0.375000</td>\n",
       "      <td>0.062500</td>\n",
       "      <td>0.312500</td>\n",
       "      <td>0.250000</td>\n",
       "    </tr>\n",
       "    <tr>\n",
       "      <th>Zdr_5x5_10th</th>\n",
       "      <td>NaN</td>\n",
       "      <td>NaN</td>\n",
       "      <td>NaN</td>\n",
       "      <td>NaN</td>\n",
       "      <td>NaN</td>\n",
       "      <td>NaN</td>\n",
       "      <td>-0.125000</td>\n",
       "      <td>-0.187500</td>\n",
       "      <td>-0.062500</td>\n",
       "      <td>0.125000</td>\n",
       "    </tr>\n",
       "    <tr>\n",
       "      <th>Zdr_5x5_50th</th>\n",
       "      <td>NaN</td>\n",
       "      <td>NaN</td>\n",
       "      <td>NaN</td>\n",
       "      <td>NaN</td>\n",
       "      <td>NaN</td>\n",
       "      <td>NaN</td>\n",
       "      <td>0.312500</td>\n",
       "      <td>0.250000</td>\n",
       "      <td>0.312500</td>\n",
       "      <td>0.375000</td>\n",
       "    </tr>\n",
       "    <tr>\n",
       "      <th>Zdr_5x5_90th</th>\n",
       "      <td>NaN</td>\n",
       "      <td>NaN</td>\n",
       "      <td>NaN</td>\n",
       "      <td>NaN</td>\n",
       "      <td>NaN</td>\n",
       "      <td>NaN</td>\n",
       "      <td>0.875000</td>\n",
       "      <td>0.687500</td>\n",
       "      <td>0.625000</td>\n",
       "      <td>0.687500</td>\n",
       "    </tr>\n",
       "    <tr>\n",
       "      <th>Kdp</th>\n",
       "      <td>NaN</td>\n",
       "      <td>NaN</td>\n",
       "      <td>NaN</td>\n",
       "      <td>NaN</td>\n",
       "      <td>NaN</td>\n",
       "      <td>NaN</td>\n",
       "      <td>1.059998</td>\n",
       "      <td>NaN</td>\n",
       "      <td>0.349991</td>\n",
       "      <td>0.349991</td>\n",
       "    </tr>\n",
       "    <tr>\n",
       "      <th>Kdp_5x5_10th</th>\n",
       "      <td>NaN</td>\n",
       "      <td>NaN</td>\n",
       "      <td>NaN</td>\n",
       "      <td>NaN</td>\n",
       "      <td>NaN</td>\n",
       "      <td>NaN</td>\n",
       "      <td>-1.410004</td>\n",
       "      <td>NaN</td>\n",
       "      <td>NaN</td>\n",
       "      <td>-1.059998</td>\n",
       "    </tr>\n",
       "    <tr>\n",
       "      <th>Kdp_5x5_50th</th>\n",
       "      <td>NaN</td>\n",
       "      <td>NaN</td>\n",
       "      <td>NaN</td>\n",
       "      <td>NaN</td>\n",
       "      <td>NaN</td>\n",
       "      <td>NaN</td>\n",
       "      <td>-0.350006</td>\n",
       "      <td>NaN</td>\n",
       "      <td>-0.350006</td>\n",
       "      <td>0.000000</td>\n",
       "    </tr>\n",
       "    <tr>\n",
       "      <th>Kdp_5x5_90th</th>\n",
       "      <td>NaN</td>\n",
       "      <td>NaN</td>\n",
       "      <td>NaN</td>\n",
       "      <td>NaN</td>\n",
       "      <td>NaN</td>\n",
       "      <td>NaN</td>\n",
       "      <td>1.059998</td>\n",
       "      <td>1.409988</td>\n",
       "      <td>1.759994</td>\n",
       "      <td>1.059998</td>\n",
       "    </tr>\n",
       "    <tr>\n",
       "      <th>Expected</th>\n",
       "      <td>0.254</td>\n",
       "      <td>0.254</td>\n",
       "      <td>0.254</td>\n",
       "      <td>0.254</td>\n",
       "      <td>0.254</td>\n",
       "      <td>0.254</td>\n",
       "      <td>1.016000</td>\n",
       "      <td>1.016000</td>\n",
       "      <td>1.016000</td>\n",
       "      <td>1.016000</td>\n",
       "    </tr>\n",
       "  </tbody>\n",
       "</table>\n",
       "</div>"
      ],
      "text/plain": [
       "                            0       1       2       3       4       5  \\\n",
       "Id                      1.000   1.000   1.000   1.000   1.000   1.000   \n",
       "minutes_past            3.000  16.000  25.000  35.000  45.000  55.000   \n",
       "radardist_km           10.000  10.000  10.000  10.000  10.000  10.000   \n",
       "Ref                       NaN     NaN     NaN     NaN     NaN     NaN   \n",
       "Ref_5x5_10th              NaN     NaN     NaN     NaN     NaN     NaN   \n",
       "Ref_5x5_50th              NaN     NaN     NaN     NaN     NaN     NaN   \n",
       "Ref_5x5_90th              NaN     NaN     NaN     NaN     NaN     NaN   \n",
       "RefComposite              NaN     NaN     NaN     NaN     NaN     NaN   \n",
       "RefComposite_5x5_10th     NaN     NaN     NaN     NaN     NaN     NaN   \n",
       "RefComposite_5x5_50th     NaN     NaN     NaN     NaN     NaN     NaN   \n",
       "RefComposite_5x5_90th     NaN     NaN     NaN     NaN     NaN     NaN   \n",
       "RhoHV                     NaN     NaN     NaN     NaN     NaN     NaN   \n",
       "RhoHV_5x5_10th            NaN     NaN     NaN     NaN     NaN     NaN   \n",
       "RhoHV_5x5_50th            NaN     NaN     NaN     NaN     NaN     NaN   \n",
       "RhoHV_5x5_90th            NaN     NaN     NaN     NaN     NaN     NaN   \n",
       "Zdr                       NaN     NaN     NaN     NaN     NaN     NaN   \n",
       "Zdr_5x5_10th              NaN     NaN     NaN     NaN     NaN     NaN   \n",
       "Zdr_5x5_50th              NaN     NaN     NaN     NaN     NaN     NaN   \n",
       "Zdr_5x5_90th              NaN     NaN     NaN     NaN     NaN     NaN   \n",
       "Kdp                       NaN     NaN     NaN     NaN     NaN     NaN   \n",
       "Kdp_5x5_10th              NaN     NaN     NaN     NaN     NaN     NaN   \n",
       "Kdp_5x5_50th              NaN     NaN     NaN     NaN     NaN     NaN   \n",
       "Kdp_5x5_90th              NaN     NaN     NaN     NaN     NaN     NaN   \n",
       "Expected                0.254   0.254   0.254   0.254   0.254   0.254   \n",
       "\n",
       "                               6          7          8          9  \n",
       "Id                      2.000000   2.000000   2.000000   2.000000  \n",
       "minutes_past            1.000000   6.000000  11.000000  16.000000  \n",
       "radardist_km            2.000000   2.000000   2.000000   2.000000  \n",
       "Ref                     9.000000  26.500000  21.500000  18.000000  \n",
       "Ref_5x5_10th            5.000000  22.500000  15.500000  14.000000  \n",
       "Ref_5x5_50th            7.500000  25.500000  20.500000  17.500000  \n",
       "Ref_5x5_90th           10.500000  31.500000  25.000000  21.000000  \n",
       "RefComposite           15.000000  26.500000  26.500000  20.500000  \n",
       "RefComposite_5x5_10th  10.500000  26.500000  23.500000  18.000000  \n",
       "RefComposite_5x5_50th  16.500000  28.500000  25.000000  20.500000  \n",
       "RefComposite_5x5_90th  23.500000  32.000000  27.000000  23.000000  \n",
       "RhoHV                   0.998333   1.001667   1.001667   0.995000  \n",
       "RhoHV_5x5_10th          0.998333   0.981667   0.995000   0.995000  \n",
       "RhoHV_5x5_50th          0.998333   0.998333   0.998333   0.998333  \n",
       "RhoHV_5x5_90th          0.998333   1.005000   1.001667   1.001667  \n",
       "Zdr                     0.375000   0.062500   0.312500   0.250000  \n",
       "Zdr_5x5_10th           -0.125000  -0.187500  -0.062500   0.125000  \n",
       "Zdr_5x5_50th            0.312500   0.250000   0.312500   0.375000  \n",
       "Zdr_5x5_90th            0.875000   0.687500   0.625000   0.687500  \n",
       "Kdp                     1.059998        NaN   0.349991   0.349991  \n",
       "Kdp_5x5_10th           -1.410004        NaN        NaN  -1.059998  \n",
       "Kdp_5x5_50th           -0.350006        NaN  -0.350006   0.000000  \n",
       "Kdp_5x5_90th            1.059998   1.409988   1.759994   1.059998  \n",
       "Expected                1.016000   1.016000   1.016000   1.016000  "
      ]
     },
     "execution_count": 41,
     "metadata": {},
     "output_type": "execute_result"
    }
   ],
   "source": [
    "d[:10].T"
   ]
  },
  {
   "cell_type": "code",
   "execution_count": 42,
   "metadata": {
    "collapsed": false
   },
   "outputs": [
    {
     "name": "stdout",
     "output_type": "stream",
     "text": [
      "count    299982.000000\n",
      "mean         76.956427\n",
      "std         526.115461\n",
      "min          -1.000000\n",
      "25%          -1.000000\n",
      "50%           0.254000\n",
      "75%           2.032001\n",
      "max       32740.617000\n",
      "Name: Expected, dtype: float64\n"
     ]
    },
    {
     "data": {
      "image/png": "[encoded data removed]",
      "text/plain": [
       "<matplotlib.figure.Figure at 0x10ff5b590>"
      ]
     },
     "metadata": {},
     "output_type": "display_data"
    }
   ],
   "source": [
    "print d.Expected.describe()\n",
    "_ = plt.hist(d.Expected, bins=100, range=(0, 20))"
   ]
  },
  {
   "cell_type": "code",
   "execution_count": 43,
   "metadata": {
    "collapsed": false
   },
   "outputs": [
    {
     "name": "stdout",
     "output_type": "stream",
     "text": [
      "count    299982.000000\n",
      "mean         29.559100\n",
      "std          17.352192\n",
      "min           0.000000\n",
      "25%          14.000000\n",
      "50%          30.000000\n",
      "75%          45.000000\n",
      "max          59.000000\n",
      "Name: minutes_past, dtype: float64\n"
     ]
    },
    {
     "data": {
      "image/png": "[encoded data removed]",
      "text/plain": [
       "<matplotlib.figure.Figure at 0x1156c5090>"
      ]
     },
     "metadata": {},
     "output_type": "display_data"
    }
   ],
   "source": [
    "print d.minutes_past.describe()\n",
    "_ = plt.hist(d.minutes_past, bins=60)"
   ]
  },
  {
   "cell_type": "code",
   "execution_count": 44,
   "metadata": {
    "collapsed": false
   },
   "outputs": [
    {
     "name": "stdout",
     "output_type": "stream",
     "text": [
      "count    299982.000000\n",
      "mean         11.199402\n",
      "std           4.181934\n",
      "min           0.000000\n",
      "25%           9.000000\n",
      "50%          12.000000\n",
      "75%          14.000000\n",
      "max          21.000000\n",
      "Name: radardist_km, dtype: float64\n"
     ]
    },
    {
     "data": {
      "image/png": "[encoded data removed]",
      "text/plain": [
       "<matplotlib.figure.Figure at 0x114d8a890>"
      ]
     },
     "metadata": {},
     "output_type": "display_data"
    }
   ],
   "source": [
    "print d.radardist_km.describe()\n",
    "_ = plt.hist(d.radardist_km, bins=100)"
   ]
  },
  {
   "cell_type": "code",
   "execution_count": 49,
   "metadata": {
    "collapsed": false
   },
   "outputs": [
    {
     "name": "stdout",
     "output_type": "stream",
     "text": [
      "count    133844.000000\n",
      "mean         23.950188\n",
      "std          10.528169\n",
      "min         -29.000000\n",
      "25%          17.000000\n",
      "50%          24.000000\n",
      "75%          30.500000\n",
      "max          66.000000\n",
      "Name: Ref, dtype: float64\n"
     ]
    },
    {
     "data": {
      "image/png": "[encoded data removed]",
      "text/plain": [
       "<matplotlib.figure.Figure at 0x1109d6390>"
      ]
     },
     "metadata": {},
     "output_type": "display_data"
    }
   ],
   "source": [
    "c = 'Ref'\n",
    "print d[c].describe()\n",
    "_ = plt.hist(d[pd.notnull(d[c])][c].values, bins=100)"
   ]
  },
  {
   "cell_type": "code",
   "execution_count": 52,
   "metadata": {
    "collapsed": false
   },
   "outputs": [
    {
     "name": "stdout",
     "output_type": "stream",
     "text": [
      "count    112475.000000\n",
      "mean         20.875097\n",
      "std           9.232834\n",
      "min         -31.500000\n",
      "25%          15.500000\n",
      "50%          21.000000\n",
      "75%          27.000000\n",
      "max          57.000000\n",
      "Name: Ref_5x5_10th, dtype: float64\n"
     ]
    },
    {
     "data": {
      "image/png": "[encoded data removed]",
      "text/plain": [
       "<matplotlib.figure.Figure at 0x1110e1fd0>"
      ]
     },
     "metadata": {},
     "output_type": "display_data"
    }
   ],
   "source": [
    "c = 'Ref_5x5_10th'\n",
    "print d[c].describe()\n",
    "_ = plt.hist(d[pd.notnull(d[c])][c].values, bins=100)"
   ]
  },
  {
   "cell_type": "code",
   "execution_count": 53,
   "metadata": {
    "collapsed": false
   },
   "outputs": [
    {
     "name": "stdout",
     "output_type": "stream",
     "text": [
      "count    133850.000000\n",
      "mean         23.643706\n",
      "std          10.211646\n",
      "min         -31.500000\n",
      "25%          17.000000\n",
      "50%          23.500000\n",
      "75%          30.500000\n",
      "max          61.500000\n",
      "Name: Ref_5x5_50th, dtype: float64\n"
     ]
    },
    {
     "data": {
      "image/png": "[encoded data removed]",
      "text/plain": [
       "<matplotlib.figure.Figure at 0x11443dd10>"
      ]
     },
     "metadata": {},
     "output_type": "display_data"
    }
   ],
   "source": [
    "c = 'Ref_5x5_50th'\n",
    "print d[c].describe()\n",
    "_ = plt.hist(d[pd.notnull(d[c])][c].values, bins=100)"
   ]
  },
  {
   "cell_type": "code",
   "execution_count": 54,
   "metadata": {
    "collapsed": false
   },
   "outputs": [
    {
     "name": "stdout",
     "output_type": "stream",
     "text": [
      "count    158712.000000\n",
      "mean         26.908570\n",
      "std          11.469349\n",
      "min         -26.500000\n",
      "25%          19.000000\n",
      "50%          27.000000\n",
      "75%          34.500000\n",
      "max          67.500000\n",
      "Name: Ref_5x5_90th, dtype: float64\n"
     ]
    },
    {
     "data": {
      "image/png": "[encoded data removed]",
      "text/plain": [
       "<matplotlib.figure.Figure at 0x115a4b9d0>"
      ]
     },
     "metadata": {},
     "output_type": "display_data"
    }
   ],
   "source": [
    "c = 'Ref_5x5_90th'\n",
    "print d[c].describe()\n",
    "_ = plt.hist(d[pd.notnull(d[c])][c].values, bins=100)"
   ]
  },
  {
   "cell_type": "code",
   "execution_count": 59,
   "metadata": {
    "collapsed": false
   },
   "outputs": [
    {
     "name": "stdout",
     "output_type": "stream",
     "text": [
      "count    142658.000000\n",
      "mean         25.627869\n",
      "std          10.817255\n",
      "min         -26.500000\n",
      "25%          18.500000\n",
      "50%          25.500000\n",
      "75%          32.500000\n",
      "max          68.000000\n",
      "Name: RefComposite, dtype: float64\n"
     ]
    },
    {
     "data": {
      "image/png": "[encoded data removed]",
      "text/plain": [
       "<matplotlib.figure.Figure at 0x1110f1910>"
      ]
     },
     "metadata": {},
     "output_type": "display_data"
    }
   ],
   "source": [
    "c = 'RefComposite'\n",
    "print d[c].describe()\n",
    "_ = plt.hist(d[pd.notnull(d[c])][c].values, bins=100)"
   ]
  },
  {
   "cell_type": "code",
   "execution_count": 60,
   "metadata": {
    "collapsed": false
   },
   "outputs": [
    {
     "name": "stdout",
     "output_type": "stream",
     "text": [
      "count    101001.000000\n",
      "mean          0.976269\n",
      "std           0.081761\n",
      "min           0.208333\n",
      "25%           0.975000\n",
      "50%           0.991667\n",
      "75%           1.001667\n",
      "max           1.051667\n",
      "Name: RhoHV, dtype: float64\n"
     ]
    },
    {
     "data": {
      "image/png": "[encoded data removed]",
      "text/plain": [
       "<matplotlib.figure.Figure at 0x114e3ad10>"
      ]
     },
     "metadata": {},
     "output_type": "display_data"
    }
   ],
   "source": [
    "c = 'RhoHV'\n",
    "print d[c].describe()\n",
    "_ = plt.hist(d[pd.notnull(d[c])][c].values, bins=100)"
   ]
  },
  {
   "cell_type": "code",
   "execution_count": 61,
   "metadata": {
    "collapsed": false
   },
   "outputs": [
    {
     "name": "stdout",
     "output_type": "stream",
     "text": [
      "count    101001.000000\n",
      "mean          0.552128\n",
      "std           1.450124\n",
      "min          -7.875000\n",
      "25%          -0.187500\n",
      "50%           0.437500\n",
      "75%           1.062500\n",
      "max           7.937500\n",
      "Name: Zdr, dtype: float64\n"
     ]
    },
    {
     "data": {
      "image/png": "[encoded data removed]",
      "text/plain": [
       "<matplotlib.figure.Figure at 0x114f78a50>"
      ]
     },
     "metadata": {},
     "output_type": "display_data"
    }
   ],
   "source": [
    "c = 'Zdr'\n",
    "print d[c].describe()\n",
    "_ = plt.hist(d[pd.notnull(d[c])][c].values, bins=100)"
   ]
  },
  {
   "cell_type": "code",
   "execution_count": 62,
   "metadata": {
    "collapsed": false
   },
   "outputs": [
    {
     "name": "stdout",
     "output_type": "stream",
     "text": [
      "count    87624.000000\n",
      "mean         0.037725\n",
      "std          3.778506\n",
      "min        -54.410004\n",
      "25%         -1.410004\n",
      "50%          0.000000\n",
      "75%          1.419998\n",
      "max         55.390000\n",
      "Name: Kdp, dtype: float64\n"
     ]
    },
    {
     "data": {
      "image/png": "[encoded data removed]",
      "text/plain": [
       "<matplotlib.figure.Figure at 0x114430f50>"
      ]
     },
     "metadata": {},
     "output_type": "display_data"
    }
   ],
   "source": [
    "c = 'Kdp'\n",
    "print d[c].describe()\n",
    "_ = plt.hist(d[pd.notnull(d[c])][c].values, bins=100)"
   ]
  }
 ],
 "metadata": {
  "kernelspec": {
   "display_name": "Python 2",
   "language": "python",
   "name": "python2"
  },
  "language_info": {
   "codemirror_mode": {
    "name": "ipython",
    "version": 2
   },
   "file_extension": ".py",
   "mimetype": "text/x-python",
   "name": "python",
   "nbconvert_exporter": "python",
   "pygments_lexer": "ipython2",
   "version": "2.7.10"
  }
 },
 "nbformat": 4,
 "nbformat_minor": 0
}
