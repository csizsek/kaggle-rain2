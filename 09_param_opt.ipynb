{
 "cells": [
  {
   "cell_type": "code",
   "execution_count": 68,
   "metadata": {
    "collapsed": false
   },
   "outputs": [
    {
     "name": "stdout",
     "output_type": "stream",
     "text": [
      "Populating the interactive namespace from numpy and matplotlib\n"
     ]
    }
   ],
   "source": [
    "import pandas as pd\n",
    "import numpy as np\n",
    "from pandas import DataFrame, Series\n",
    "import matplotlib.pyplot as plt\n",
    "from pylab import rcParams\n",
    "%pylab inline\n",
    "rcParams['figure.figsize'] = 12, 6\n",
    "import xgboost as xgb\n",
    "from sklearn.metrics import mean_absolute_error, make_scorer\n",
    "from sklearn.neighbors import KNeighborsRegressor\n",
    "from sklearn.svm import SVR\n",
    "from sklearn import linear_model\n",
    "from sklearn.grid_search import GridSearchCV\n",
    "from sklearn.metrics import mean_absolute_error"
   ]
  },
  {
   "cell_type": "code",
   "execution_count": 2,
   "metadata": {
    "collapsed": true
   },
   "outputs": [],
   "source": [
    "d = pd.read_csv('tmp/grouped_mp_02.csv')"
   ]
  },
  {
   "cell_type": "code",
   "execution_count": 3,
   "metadata": {
    "collapsed": false
   },
   "outputs": [
    {
     "name": "stdout",
     "output_type": "stream",
     "text": [
      "1180945\n"
     ]
    }
   ],
   "source": [
    "d = d[d.Expected != -1]\n",
    "print len(d)"
   ]
  },
  {
   "cell_type": "code",
   "execution_count": 6,
   "metadata": {
    "collapsed": false
   },
   "outputs": [],
   "source": [
    "d = d.iloc[np.random.permutation(len(d))]"
   ]
  },
  {
   "cell_type": "code",
   "execution_count": 7,
   "metadata": {
    "collapsed": false
   },
   "outputs": [
    {
     "data": {
      "text/html": [
       "<div>\n",
       "<table border=\"1\" class=\"dataframe\">\n",
       "  <thead>\n",
       "    <tr style=\"text-align: right;\">\n",
       "      <th></th>\n",
       "      <th>count</th>\n",
       "      <th>mean</th>\n",
       "      <th>std</th>\n",
       "      <th>min</th>\n",
       "      <th>25%</th>\n",
       "      <th>50%</th>\n",
       "      <th>75%</th>\n",
       "      <th>max</th>\n",
       "    </tr>\n",
       "  </thead>\n",
       "  <tbody>\n",
       "    <tr>\n",
       "      <th>Id</th>\n",
       "      <td>1180945</td>\n",
       "      <td>590473.000000</td>\n",
       "      <td>340909.601163</td>\n",
       "      <td>1.00</td>\n",
       "      <td>295237.000000</td>\n",
       "      <td>590473.000000</td>\n",
       "      <td>885709.000000</td>\n",
       "      <td>1180945.000000</td>\n",
       "    </tr>\n",
       "    <tr>\n",
       "      <th>Id.1</th>\n",
       "      <td>1180945</td>\n",
       "      <td>590473.000000</td>\n",
       "      <td>340909.601163</td>\n",
       "      <td>1.00</td>\n",
       "      <td>295237.000000</td>\n",
       "      <td>590473.000000</td>\n",
       "      <td>885709.000000</td>\n",
       "      <td>1180945.000000</td>\n",
       "    </tr>\n",
       "    <tr>\n",
       "      <th>Expected</th>\n",
       "      <td>1180945</td>\n",
       "      <td>132.245290</td>\n",
       "      <td>603.080408</td>\n",
       "      <td>0.01</td>\n",
       "      <td>0.254000</td>\n",
       "      <td>1.016000</td>\n",
       "      <td>3.810002</td>\n",
       "      <td>33017.730000</td>\n",
       "    </tr>\n",
       "    <tr>\n",
       "      <th>cnt</th>\n",
       "      <td>1180945</td>\n",
       "      <td>11.656090</td>\n",
       "      <td>3.254159</td>\n",
       "      <td>1.00</td>\n",
       "      <td>10.000000</td>\n",
       "      <td>12.000000</td>\n",
       "      <td>14.000000</td>\n",
       "      <td>19.000000</td>\n",
       "    </tr>\n",
       "    <tr>\n",
       "      <th>null_ratio</th>\n",
       "      <td>1180945</td>\n",
       "      <td>0.370698</td>\n",
       "      <td>0.284461</td>\n",
       "      <td>0.00</td>\n",
       "      <td>0.027778</td>\n",
       "      <td>0.428571</td>\n",
       "      <td>0.666667</td>\n",
       "      <td>0.666667</td>\n",
       "    </tr>\n",
       "    <tr>\n",
       "      <th>radardist_km</th>\n",
       "      <td>1180945</td>\n",
       "      <td>11.183285</td>\n",
       "      <td>4.224058</td>\n",
       "      <td>0.00</td>\n",
       "      <td>9.000000</td>\n",
       "      <td>12.000000</td>\n",
       "      <td>14.000000</td>\n",
       "      <td>21.000000</td>\n",
       "    </tr>\n",
       "    <tr>\n",
       "      <th>Ref_mp</th>\n",
       "      <td>1180945</td>\n",
       "      <td>1.360182</td>\n",
       "      <td>3.572233</td>\n",
       "      <td>0.00</td>\n",
       "      <td>0.000000</td>\n",
       "      <td>0.139886</td>\n",
       "      <td>1.159858</td>\n",
       "      <td>146.278694</td>\n",
       "    </tr>\n",
       "    <tr>\n",
       "      <th>Ref_ecs</th>\n",
       "      <td>1180945</td>\n",
       "      <td>1.097677</td>\n",
       "      <td>2.183033</td>\n",
       "      <td>0.00</td>\n",
       "      <td>0.000000</td>\n",
       "      <td>0.208341</td>\n",
       "      <td>1.268685</td>\n",
       "      <td>64.742429</td>\n",
       "    </tr>\n",
       "    <tr>\n",
       "      <th>Ref_wcs</th>\n",
       "      <td>1180945</td>\n",
       "      <td>1.445159</td>\n",
       "      <td>2.874096</td>\n",
       "      <td>0.00</td>\n",
       "      <td>0.000000</td>\n",
       "      <td>0.274294</td>\n",
       "      <td>1.670301</td>\n",
       "      <td>85.237369</td>\n",
       "    </tr>\n",
       "    <tr>\n",
       "      <th>Ref_w8c</th>\n",
       "      <td>1180945</td>\n",
       "      <td>1.468605</td>\n",
       "      <td>4.725640</td>\n",
       "      <td>0.00</td>\n",
       "      <td>0.000000</td>\n",
       "      <td>0.092325</td>\n",
       "      <td>0.963435</td>\n",
       "      <td>244.070003</td>\n",
       "    </tr>\n",
       "    <tr>\n",
       "      <th>Ref_rt</th>\n",
       "      <td>1180945</td>\n",
       "      <td>2.860372</td>\n",
       "      <td>12.061189</td>\n",
       "      <td>0.00</td>\n",
       "      <td>0.000000</td>\n",
       "      <td>0.086953</td>\n",
       "      <td>1.245717</td>\n",
       "      <td>812.368076</td>\n",
       "    </tr>\n",
       "    <tr>\n",
       "      <th>Ref_5x5_50th_mp</th>\n",
       "      <td>1180945</td>\n",
       "      <td>1.165077</td>\n",
       "      <td>2.957592</td>\n",
       "      <td>0.00</td>\n",
       "      <td>0.000000</td>\n",
       "      <td>0.117354</td>\n",
       "      <td>1.033394</td>\n",
       "      <td>117.017310</td>\n",
       "    </tr>\n",
       "    <tr>\n",
       "      <th>Ref_5x5_50th_ecs</th>\n",
       "      <td>1180945</td>\n",
       "      <td>0.992297</td>\n",
       "      <td>1.938548</td>\n",
       "      <td>0.00</td>\n",
       "      <td>0.000000</td>\n",
       "      <td>0.181212</td>\n",
       "      <td>1.171108</td>\n",
       "      <td>55.510318</td>\n",
       "    </tr>\n",
       "    <tr>\n",
       "      <th>Ref_5x5_50th_wcs</th>\n",
       "      <td>1180945</td>\n",
       "      <td>1.306419</td>\n",
       "      <td>2.552217</td>\n",
       "      <td>0.00</td>\n",
       "      <td>0.000000</td>\n",
       "      <td>0.238577</td>\n",
       "      <td>1.541836</td>\n",
       "      <td>73.082730</td>\n",
       "    </tr>\n",
       "    <tr>\n",
       "      <th>Ref_5x5_50th_w8c</th>\n",
       "      <td>1180945</td>\n",
       "      <td>1.201656</td>\n",
       "      <td>3.693055</td>\n",
       "      <td>0.00</td>\n",
       "      <td>0.000000</td>\n",
       "      <td>0.075480</td>\n",
       "      <td>0.832911</td>\n",
       "      <td>174.071746</td>\n",
       "    </tr>\n",
       "    <tr>\n",
       "      <th>Ref_5x5_50th_rt</th>\n",
       "      <td>1180945</td>\n",
       "      <td>2.182883</td>\n",
       "      <td>8.642040</td>\n",
       "      <td>0.00</td>\n",
       "      <td>0.000000</td>\n",
       "      <td>0.068407</td>\n",
       "      <td>1.029509</td>\n",
       "      <td>503.234873</td>\n",
       "    </tr>\n",
       "    <tr>\n",
       "      <th>RefComposite_mp</th>\n",
       "      <td>1180945</td>\n",
       "      <td>2.026659</td>\n",
       "      <td>7.368254</td>\n",
       "      <td>0.00</td>\n",
       "      <td>0.000000</td>\n",
       "      <td>0.186168</td>\n",
       "      <td>1.619387</td>\n",
       "      <td>3329.258419</td>\n",
       "    </tr>\n",
       "    <tr>\n",
       "      <th>RefComposite_ecs</th>\n",
       "      <td>1180945</td>\n",
       "      <td>1.503743</td>\n",
       "      <td>3.244127</td>\n",
       "      <td>0.00</td>\n",
       "      <td>0.000000</td>\n",
       "      <td>0.267969</td>\n",
       "      <td>1.665284</td>\n",
       "      <td>618.466914</td>\n",
       "    </tr>\n",
       "    <tr>\n",
       "      <th>RefComposite_wcs</th>\n",
       "      <td>1180945</td>\n",
       "      <td>1.979770</td>\n",
       "      <td>4.271091</td>\n",
       "      <td>0.00</td>\n",
       "      <td>0.000000</td>\n",
       "      <td>0.352798</td>\n",
       "      <td>2.192448</td>\n",
       "      <td>814.249528</td>\n",
       "    </tr>\n",
       "    <tr>\n",
       "      <th>RefComposite_w8c</th>\n",
       "      <td>1180945</td>\n",
       "      <td>2.342762</td>\n",
       "      <td>15.342067</td>\n",
       "      <td>0.00</td>\n",
       "      <td>0.000000</td>\n",
       "      <td>0.125762</td>\n",
       "      <td>1.404515</td>\n",
       "      <td>9635.818338</td>\n",
       "    </tr>\n",
       "    <tr>\n",
       "      <th>RefComposite_rt</th>\n",
       "      <td>1180945</td>\n",
       "      <td>5.113359</td>\n",
       "      <td>87.342733</td>\n",
       "      <td>0.00</td>\n",
       "      <td>0.000000</td>\n",
       "      <td>0.122007</td>\n",
       "      <td>1.920431</td>\n",
       "      <td>65186.571035</td>\n",
       "    </tr>\n",
       "    <tr>\n",
       "      <th>RefComposite_5x5_50th_mp</th>\n",
       "      <td>1180945</td>\n",
       "      <td>1.745773</td>\n",
       "      <td>4.531573</td>\n",
       "      <td>0.00</td>\n",
       "      <td>0.000000</td>\n",
       "      <td>0.159111</td>\n",
       "      <td>1.450746</td>\n",
       "      <td>176.694923</td>\n",
       "    </tr>\n",
       "    <tr>\n",
       "      <th>RefComposite_5x5_50th_ecs</th>\n",
       "      <td>1180945</td>\n",
       "      <td>1.368244</td>\n",
       "      <td>2.734776</td>\n",
       "      <td>0.00</td>\n",
       "      <td>0.000000</td>\n",
       "      <td>0.236837</td>\n",
       "      <td>1.543478</td>\n",
       "      <td>77.335773</td>\n",
       "    </tr>\n",
       "    <tr>\n",
       "      <th>RefComposite_5x5_50th_wcs</th>\n",
       "      <td>1180945</td>\n",
       "      <td>1.801377</td>\n",
       "      <td>3.600500</td>\n",
       "      <td>0.00</td>\n",
       "      <td>0.000000</td>\n",
       "      <td>0.311811</td>\n",
       "      <td>2.032083</td>\n",
       "      <td>101.817276</td>\n",
       "    </tr>\n",
       "    <tr>\n",
       "      <th>RefComposite_5x5_50th_w8c</th>\n",
       "      <td>1180945</td>\n",
       "      <td>1.913030</td>\n",
       "      <td>5.984712</td>\n",
       "      <td>0.00</td>\n",
       "      <td>0.000000</td>\n",
       "      <td>0.104619</td>\n",
       "      <td>1.223722</td>\n",
       "      <td>300.706550</td>\n",
       "    </tr>\n",
       "    <tr>\n",
       "      <th>RefComposite_5x5_50th_rt</th>\n",
       "      <td>1180945</td>\n",
       "      <td>3.768902</td>\n",
       "      <td>15.052807</td>\n",
       "      <td>0.00</td>\n",
       "      <td>0.000000</td>\n",
       "      <td>0.098029</td>\n",
       "      <td>1.612701</td>\n",
       "      <td>1070.512871</td>\n",
       "    </tr>\n",
       "  </tbody>\n",
       "</table>\n",
       "</div>"
      ],
      "text/plain": [
       "                             count           mean            std   min  \\\n",
       "Id                         1180945  590473.000000  340909.601163  1.00   \n",
       "Id.1                       1180945  590473.000000  340909.601163  1.00   \n",
       "Expected                   1180945     132.245290     603.080408  0.01   \n",
       "cnt                        1180945      11.656090       3.254159  1.00   \n",
       "null_ratio                 1180945       0.370698       0.284461  0.00   \n",
       "radardist_km               1180945      11.183285       4.224058  0.00   \n",
       "Ref_mp                     1180945       1.360182       3.572233  0.00   \n",
       "Ref_ecs                    1180945       1.097677       2.183033  0.00   \n",
       "Ref_wcs                    1180945       1.445159       2.874096  0.00   \n",
       "Ref_w8c                    1180945       1.468605       4.725640  0.00   \n",
       "Ref_rt                     1180945       2.860372      12.061189  0.00   \n",
       "Ref_5x5_50th_mp            1180945       1.165077       2.957592  0.00   \n",
       "Ref_5x5_50th_ecs           1180945       0.992297       1.938548  0.00   \n",
       "Ref_5x5_50th_wcs           1180945       1.306419       2.552217  0.00   \n",
       "Ref_5x5_50th_w8c           1180945       1.201656       3.693055  0.00   \n",
       "Ref_5x5_50th_rt            1180945       2.182883       8.642040  0.00   \n",
       "RefComposite_mp            1180945       2.026659       7.368254  0.00   \n",
       "RefComposite_ecs           1180945       1.503743       3.244127  0.00   \n",
       "RefComposite_wcs           1180945       1.979770       4.271091  0.00   \n",
       "RefComposite_w8c           1180945       2.342762      15.342067  0.00   \n",
       "RefComposite_rt            1180945       5.113359      87.342733  0.00   \n",
       "RefComposite_5x5_50th_mp   1180945       1.745773       4.531573  0.00   \n",
       "RefComposite_5x5_50th_ecs  1180945       1.368244       2.734776  0.00   \n",
       "RefComposite_5x5_50th_wcs  1180945       1.801377       3.600500  0.00   \n",
       "RefComposite_5x5_50th_w8c  1180945       1.913030       5.984712  0.00   \n",
       "RefComposite_5x5_50th_rt   1180945       3.768902      15.052807  0.00   \n",
       "\n",
       "                                     25%            50%            75%  \\\n",
       "Id                         295237.000000  590473.000000  885709.000000   \n",
       "Id.1                       295237.000000  590473.000000  885709.000000   \n",
       "Expected                        0.254000       1.016000       3.810002   \n",
       "cnt                            10.000000      12.000000      14.000000   \n",
       "null_ratio                      0.027778       0.428571       0.666667   \n",
       "radardist_km                    9.000000      12.000000      14.000000   \n",
       "Ref_mp                          0.000000       0.139886       1.159858   \n",
       "Ref_ecs                         0.000000       0.208341       1.268685   \n",
       "Ref_wcs                         0.000000       0.274294       1.670301   \n",
       "Ref_w8c                         0.000000       0.092325       0.963435   \n",
       "Ref_rt                          0.000000       0.086953       1.245717   \n",
       "Ref_5x5_50th_mp                 0.000000       0.117354       1.033394   \n",
       "Ref_5x5_50th_ecs                0.000000       0.181212       1.171108   \n",
       "Ref_5x5_50th_wcs                0.000000       0.238577       1.541836   \n",
       "Ref_5x5_50th_w8c                0.000000       0.075480       0.832911   \n",
       "Ref_5x5_50th_rt                 0.000000       0.068407       1.029509   \n",
       "RefComposite_mp                 0.000000       0.186168       1.619387   \n",
       "RefComposite_ecs                0.000000       0.267969       1.665284   \n",
       "RefComposite_wcs                0.000000       0.352798       2.192448   \n",
       "RefComposite_w8c                0.000000       0.125762       1.404515   \n",
       "RefComposite_rt                 0.000000       0.122007       1.920431   \n",
       "RefComposite_5x5_50th_mp        0.000000       0.159111       1.450746   \n",
       "RefComposite_5x5_50th_ecs       0.000000       0.236837       1.543478   \n",
       "RefComposite_5x5_50th_wcs       0.000000       0.311811       2.032083   \n",
       "RefComposite_5x5_50th_w8c       0.000000       0.104619       1.223722   \n",
       "RefComposite_5x5_50th_rt        0.000000       0.098029       1.612701   \n",
       "\n",
       "                                      max  \n",
       "Id                         1180945.000000  \n",
       "Id.1                       1180945.000000  \n",
       "Expected                     33017.730000  \n",
       "cnt                             19.000000  \n",
       "null_ratio                       0.666667  \n",
       "radardist_km                    21.000000  \n",
       "Ref_mp                         146.278694  \n",
       "Ref_ecs                         64.742429  \n",
       "Ref_wcs                         85.237369  \n",
       "Ref_w8c                        244.070003  \n",
       "Ref_rt                         812.368076  \n",
       "Ref_5x5_50th_mp                117.017310  \n",
       "Ref_5x5_50th_ecs                55.510318  \n",
       "Ref_5x5_50th_wcs                73.082730  \n",
       "Ref_5x5_50th_w8c               174.071746  \n",
       "Ref_5x5_50th_rt                503.234873  \n",
       "RefComposite_mp               3329.258419  \n",
       "RefComposite_ecs               618.466914  \n",
       "RefComposite_wcs               814.249528  \n",
       "RefComposite_w8c              9635.818338  \n",
       "RefComposite_rt              65186.571035  \n",
       "RefComposite_5x5_50th_mp       176.694923  \n",
       "RefComposite_5x5_50th_ecs       77.335773  \n",
       "RefComposite_5x5_50th_wcs      101.817276  \n",
       "RefComposite_5x5_50th_w8c      300.706550  \n",
       "RefComposite_5x5_50th_rt      1070.512871  "
      ]
     },
     "execution_count": 7,
     "metadata": {},
     "output_type": "execute_result"
    }
   ],
   "source": [
    "d.describe().T"
   ]
  },
  {
   "cell_type": "code",
   "execution_count": 12,
   "metadata": {
    "collapsed": false
   },
   "outputs": [
    {
     "data": {
      "image/png": "[encoded data removed]",
      "text/plain": [
       "<matplotlib.figure.Figure at 0x11011d7d0>"
      ]
     },
     "metadata": {},
     "output_type": "display_data"
    }
   ],
   "source": [
    "_ = plt.hist(d.cnt, bins=50)"
   ]
  },
  {
   "cell_type": "code",
   "execution_count": 11,
   "metadata": {
    "collapsed": false
   },
   "outputs": [
    {
     "data": {
      "image/png": "[encoded data removed]",
      "text/plain": [
       "<matplotlib.figure.Figure at 0x107e03410>"
      ]
     },
     "metadata": {},
     "output_type": "display_data"
    }
   ],
   "source": [
    "_ = plt.hist(d.null_ratio, bins=50)"
   ]
  },
  {
   "cell_type": "code",
   "execution_count": 13,
   "metadata": {
    "collapsed": true
   },
   "outputs": [],
   "source": [
    "tr = d"
   ]
  },
  {
   "cell_type": "code",
   "execution_count": 14,
   "metadata": {
    "collapsed": true
   },
   "outputs": [],
   "source": [
    "ho = tr[800000:]\n",
    "tr = tr[:800000]"
   ]
  },
  {
   "cell_type": "code",
   "execution_count": 15,
   "metadata": {
    "collapsed": true
   },
   "outputs": [],
   "source": [
    "trl = tr.Expected\n",
    "del tr['Expected']\n",
    "hol = ho.Expected\n",
    "del ho['Expected']"
   ]
  },
  {
   "cell_type": "code",
   "execution_count": 16,
   "metadata": {
    "collapsed": true
   },
   "outputs": [],
   "source": [
    "def evaluate_pred(p):\n",
    "    return mean_absolute_error(hol, p)"
   ]
  },
  {
   "cell_type": "code",
   "execution_count": 17,
   "metadata": {
    "collapsed": true
   },
   "outputs": [],
   "source": [
    "def evaluate_model(m):\n",
    "    m.fit(tr, trl)\n",
    "    p = m.predict(ho)\n",
    "    return mean_absolute_error(hol, p)"
   ]
  },
  {
   "cell_type": "code",
   "execution_count": 18,
   "metadata": {
    "collapsed": false
   },
   "outputs": [
    {
     "name": "stdout",
     "output_type": "stream",
     "text": [
      "Ref_mp 132.377492217\n",
      "Ref_ecs 132.279271775\n",
      "Ref_wcs 132.343114015\n",
      "Ref_w8c 132.491869882\n",
      "Ref_rt 133.509821081\n",
      "Ref_5x5_50th_mp 132.312861266\n",
      "Ref_5x5_50th_ecs 132.273337352\n",
      "Ref_5x5_50th_wcs 132.307189795\n",
      "Ref_5x5_50th_w8c 132.371647003\n",
      "Ref_5x5_50th_rt 132.979977006\n",
      "RefComposite_mp 132.738551759\n",
      "RefComposite_ecs 132.40223431\n",
      "RefComposite_wcs 132.606588796\n",
      "RefComposite_w8c 133.038668931\n",
      "RefComposite_rt 135.32999279\n",
      "RefComposite_5x5_50th_mp 132.574291403\n",
      "RefComposite_5x5_50th_ecs 132.357204756\n",
      "RefComposite_5x5_50th_wcs 132.518518496\n",
      "RefComposite_5x5_50th_w8c 132.753995734\n",
      "RefComposite_5x5_50th_rt 134.29029198\n"
     ]
    }
   ],
   "source": [
    "for c in tr.columns:\n",
    "    if c.startswith('Ref'):\n",
    "        print c, evaluate_pred(ho[c])"
   ]
  },
  {
   "cell_type": "code",
   "execution_count": 20,
   "metadata": {
    "collapsed": false
   },
   "outputs": [],
   "source": [
    "# m = xgb.XGBRegressor(n_estimators=200, nthread=4, learning_rate=0.05, max_depth=10)\n",
    "# print evaluate_model(m)\n",
    "#m = linear_model.LinearRegression()\n",
    "#print evaluate_model(m)\n",
    "#print m.coef_\n",
    "# m = linear_model.Ridge(alpha=0.5)\n",
    "# print evaluate_model(m)\n",
    "# m = linear_model.Lasso(alpha=0.1)\n",
    "# print evaluate_model(m)\n",
    "# m = linear_model.BayesianRidge()\n",
    "# print evaluate_model(m)\n",
    "# m = linear_model.SGDRegressor()\n",
    "# evaluate_model(m)"
   ]
  },
  {
   "cell_type": "code",
   "execution_count": 21,
   "metadata": {
    "collapsed": true
   },
   "outputs": [],
   "source": [
    "def evaluate_model_on_data(m, data):\n",
    "    data = data.iloc[np.random.permutation(len(data))]\n",
    "    lim = int(0.8 * len(data))\n",
    "    tr = data[:lim]\n",
    "    trl = tr.Expected\n",
    "    del tr['Expected']\n",
    "    ho = data[lim:]\n",
    "    hol = ho.Expected\n",
    "    del ho['Expected']\n",
    "    m.fit(tr, trl)\n",
    "    p = m.predict(ho)\n",
    "    return mean_absolute_error(hol, p)"
   ]
  },
  {
   "cell_type": "code",
   "execution_count": 86,
   "metadata": {
    "collapsed": false
   },
   "outputs": [],
   "source": [
    "f = {}\n",
    "f[1] = d[(d.cnt < 10) &\n",
    "           (d.null_ratio < 0.02)]\n",
    "f[2] = d[(10 <= d.cnt) & (d.cnt < 15) &\n",
    "           (d.null_ratio < 0.02)]\n",
    "f[3] = d[(15 <= d.cnt) &\n",
    "           (d.null_ratio < 0.02)]\n",
    "f[4] = d[(d.cnt < 10) &\n",
    "           ( 0.02 <= d.null_ratio) & (d.null_ratio < 0.65)]\n",
    "f[5] = d[(10 <= d.cnt) & (d.cnt < 15) &\n",
    "           ( 0.02 <= d.null_ratio) & (d.null_ratio < 0.65)]\n",
    "f[6] = d[(15 <= d.cnt) &\n",
    "           ( 0.02 <= d.null_ratio) & (d.null_ratio < 0.65)]\n",
    "f[7] = d[(d.cnt < 10) &\n",
    "           ( 0.65 <= d.null_ratio)]\n",
    "f[8] = d[(10 <= d.cnt) & (d.cnt < 15) &\n",
    "           ( 0.65 <= d.null_ratio)]\n",
    "f[9] = d[(15 <= d.cnt) &\n",
    "           ( 0.65 <= d.null_ratio)]"
   ]
  },
  {
   "cell_type": "code",
   "execution_count": 105,
   "metadata": {
    "collapsed": false
   },
   "outputs": [],
   "source": [
    "param_grid = {\n",
    "    'n_estimators': [1, 10, 50],\n",
    "    'nthread': [6],\n",
    "    'learning_rate': [0.01, 0.03, 0.06],\n",
    "    'max_depth': [5, 10, 20],\n",
    "    'objective':['reg:linear'],\n",
    "    'min_child_weight': [1]\n",
    "}"
   ]
  },
  {
   "cell_type": "code",
   "execution_count": 107,
   "metadata": {
    "collapsed": false
   },
   "outputs": [
    {
     "name": "stdout",
     "output_type": "stream",
     "text": [
      "1 21.3847552491\n",
      "{'learning_rate': 0.06, 'nthread': 6, 'min_child_weight': 1, 'n_estimators': 1, 'objective': 'reg:linear', 'max_depth': 20}\n",
      "====================\n",
      "2 9.3372758312\n",
      "{'learning_rate': 0.03, 'nthread': 6, 'min_child_weight': 1, 'n_estimators': 50, 'objective': 'reg:linear', 'max_depth': 20}\n",
      "====================\n",
      "3 12.014259978\n",
      "{'learning_rate': 0.01, 'nthread': 6, 'min_child_weight': 1, 'n_estimators': 10, 'objective': 'reg:linear', 'max_depth': 5}\n",
      "====================\n",
      "4 46.3640128419\n",
      "{'learning_rate': 0.06, 'nthread': 6, 'min_child_weight': 1, 'n_estimators': 50, 'objective': 'reg:linear', 'max_depth': 20}\n",
      "====================\n",
      "5 22.2351018908\n",
      "{'learning_rate': 0.06, 'nthread': 6, 'min_child_weight': 1, 'n_estimators': 50, 'objective': 'reg:linear', 'max_depth': 20}\n",
      "====================\n",
      "6 25.6994105235\n",
      "{'learning_rate': 0.01, 'nthread': 6, 'min_child_weight': 1, 'n_estimators': 50, 'objective': 'reg:linear', 'max_depth': 20}\n",
      "====================\n",
      "7 431.695508372\n",
      "{'learning_rate': 0.01, 'nthread': 6, 'min_child_weight': 1, 'n_estimators': 10, 'objective': 'reg:linear', 'max_depth': 20}\n",
      "====================\n",
      "8 218.865818963\n",
      "{'learning_rate': 0.01, 'nthread': 6, 'min_child_weight': 1, 'n_estimators': 1, 'objective': 'reg:linear', 'max_depth': 20}\n",
      "====================\n",
      "9 221.937660335\n",
      "{'learning_rate': 0.01, 'nthread': 6, 'min_child_weight': 1, 'n_estimators': 1, 'objective': 'reg:linear', 'max_depth': 20}\n",
      "====================\n"
     ]
    }
   ],
   "source": [
    "for i in range(1, 10):\n",
    "    r = GridSearchCV(xgb.XGBRegressor(), param_grid, cv=3, scoring=make_scorer(mean_absolute_error, greater_is_better=False))\n",
    "    print i, evaluate_model_on_data(r, f[i])\n",
    "    print r.best_params_\n",
    "    print \"=\" * 20"
   ]
  }
 ],
 "metadata": {
  "kernelspec": {
   "display_name": "Python 2",
   "language": "python",
   "name": "python2"
  },
  "language_info": {
   "codemirror_mode": {
    "name": "ipython",
    "version": 2
   },
   "file_extension": ".py",
   "mimetype": "text/x-python",
   "name": "python",
   "nbconvert_exporter": "python",
   "pygments_lexer": "ipython2",
   "version": "2.7.10"
  }
 },
 "nbformat": 4,
 "nbformat_minor": 0
}
