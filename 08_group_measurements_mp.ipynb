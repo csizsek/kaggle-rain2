{
 "cells": [
  {
   "cell_type": "code",
   "execution_count": 42,
   "metadata": {
    "collapsed": false
   },
   "outputs": [
    {
     "name": "stdout",
     "output_type": "stream",
     "text": [
      "Populating the interactive namespace from numpy and matplotlib\n"
     ]
    }
   ],
   "source": [
    "import pandas as pd\n",
    "import numpy as np\n",
    "from pandas import DataFrame, Series\n",
    "import matplotlib.pyplot as plt\n",
    "from pylab import rcParams\n",
    "%pylab inline\n",
    "rcParams['figure.figsize'] = 16, 8"
   ]
  },
  {
   "cell_type": "code",
   "execution_count": 43,
   "metadata": {
    "collapsed": false
   },
   "outputs": [],
   "source": [
    "tr = pd.read_csv('input/train.csv',\n",
    "                 usecols=['Id',\n",
    "                          'minutes_past',\n",
    "                          'radardist_km',\n",
    "                          'Ref',\n",
    "                          'Ref_5x5_50th',\n",
    "                          'RefComposite',\n",
    "                          'RefComposite_5x5_50th',\n",
    "                          'Expected'])"
   ]
  },
  {
   "cell_type": "code",
   "execution_count": 44,
   "metadata": {
    "collapsed": false
   },
   "outputs": [],
   "source": [
    "te = pd.read_csv('input/test.csv',\n",
    "                 usecols=['Id',\n",
    "                          'minutes_past',\n",
    "                          'radardist_km',\n",
    "                          'Ref',\n",
    "                          'Ref_5x5_50th',\n",
    "                          'RefComposite',\n",
    "                          'RefComposite_5x5_50th'])\n",
    "te['Expected'] = -1\n",
    "te['Id'] += 10000000"
   ]
  },
  {
   "cell_type": "code",
   "execution_count": 45,
   "metadata": {
    "collapsed": false
   },
   "outputs": [
    {
     "name": "stdout",
     "output_type": "stream",
     "text": [
      "<class 'pandas.core.frame.DataFrame'>\n",
      "Int64Index: 21787957 entries, 0 to 21787956\n",
      "Data columns (total 8 columns):\n",
      "Id                       int64\n",
      "minutes_past             int64\n",
      "radardist_km             float64\n",
      "Ref                      float64\n",
      "Ref_5x5_50th             float64\n",
      "RefComposite             float64\n",
      "RefComposite_5x5_50th    float64\n",
      "Expected                 float64\n",
      "dtypes: float64(6), int64(2)\n",
      "memory usage: 1.5 GB\n"
     ]
    }
   ],
   "source": [
    "d = pd.concat([tr, te])\n",
    "d.index = pd.Index(range(len(d)))\n",
    "d.info()"
   ]
  },
  {
   "cell_type": "code",
   "execution_count": 46,
   "metadata": {
    "collapsed": true
   },
   "outputs": [],
   "source": [
    "del tr\n",
    "del te"
   ]
  },
  {
   "cell_type": "code",
   "execution_count": 47,
   "metadata": {
    "collapsed": true
   },
   "outputs": [],
   "source": [
    "grouped = d.groupby('Id')"
   ]
  },
  {
   "cell_type": "code",
   "execution_count": 48,
   "metadata": {
    "collapsed": true
   },
   "outputs": [],
   "source": [
    "del d"
   ]
  },
  {
   "cell_type": "code",
   "execution_count": 49,
   "metadata": {
    "collapsed": false
   },
   "outputs": [],
   "source": [
    "def compute(g, c):\n",
    "    valid_time = np.zeros_like(g.minutes_past)\n",
    "    valid_time[0] = g.minutes_past.iloc[0]\n",
    "    for n in xrange(1, len(g.minutes_past)):\n",
    "        valid_time[n] = g.minutes_past.iloc[n] - g.minutes_past.iloc[n-1]\n",
    "    valid_time[-1] = valid_time[-1] + 60 - np.sum(valid_time)\n",
    "    valid_time = valid_time / 60.0\n",
    "    \n",
    "    sum_mp = 0\n",
    "    sum_ecs = 0\n",
    "    sum_wcs = 0\n",
    "    sum_w8c = 0\n",
    "    sum_rt = 0\n",
    "    for dbz, hours in zip(g[c], valid_time):\n",
    "        if np.isfinite(dbz):\n",
    "            mp_perhr = pow(pow(10, dbz/10)/200, 0.625)\n",
    "            sum_mp = sum_mp + mp_perhr * hours\n",
    "            ecs_perhr = pow(pow(10, dbz/10)/130, 0.5)\n",
    "            sum_ecs = sum_ecs + ecs_perhr * hours\n",
    "            wcs_perhr = pow(pow(10, dbz/10)/75, 0.5)\n",
    "            sum_wcs = sum_wcs + wcs_perhr * hours\n",
    "            w8c_perhr = pow(pow(10, dbz/10)/300, 0.714)\n",
    "            sum_w8c = sum_w8c + w8c_perhr * hours\n",
    "            rt_perhr = pow(pow(10, dbz/10)/250, 0.833)\n",
    "            sum_rt = sum_rt + rt_perhr * hours\n",
    "    return (sum_mp, sum_ecs, sum_wcs, sum_w8c, sum_rt)"
   ]
  },
  {
   "cell_type": "code",
   "execution_count": 50,
   "metadata": {
    "collapsed": false
   },
   "outputs": [],
   "source": [
    "def aggregate_groups(group):\n",
    "    group = group.sort('minutes_past', ascending=True)\n",
    "    null_ratio = (1.0 * group.isnull().sum().sum()) / (len(group) * (len(group.columns) - 2))\n",
    "    vals = [\n",
    "        group.iloc[0]['Id'],\n",
    "        group['Expected'].mean(),\n",
    "        len(group),\n",
    "        null_ratio,\n",
    "        group['radardist_km'].mean(),\n",
    "    ]\n",
    "    cols = [\n",
    "        'Id',\n",
    "        'Expected',\n",
    "        'cnt',\n",
    "        'null_ratio',\n",
    "        'radardist_km'\n",
    "    ]\n",
    "    radar_cols = ['Ref', 'Ref_5x5_50th', 'RefComposite', 'RefComposite_5x5_50th']\n",
    "    for c in radar_cols:\n",
    "        mp, ecs, wcs, w8c, rt = compute(group, c)\n",
    "        vals.append(mp)\n",
    "        cols.append(c + '_mp')\n",
    "        vals.append(ecs)\n",
    "        cols.append(c + '_ecs')\n",
    "        vals.append(wcs)\n",
    "        cols.append(c + '_wcs')\n",
    "        vals.append(w8c)\n",
    "        cols.append(c + '_w8c')\n",
    "        vals.append(rt)\n",
    "        cols.append(c + '_rt')\n",
    "    if group['Id'].mean() % 100000 == 0:\n",
    "        print group['Id'].mean()\n",
    "    return Series(vals, index=cols)"
   ]
  },
  {
   "cell_type": "code",
   "execution_count": 51,
   "metadata": {
    "collapsed": false
   },
   "outputs": [
    {
     "name": "stdout",
     "output_type": "stream",
     "text": [
      "100000.0\n",
      "200000.0\n",
      "300000.0\n",
      "400000.0\n",
      "500000.0\n",
      "600000.0\n",
      "700000.0\n",
      "800000.0\n",
      "900000.0\n",
      "1000000.0\n",
      "1100000.0\n",
      "10100000.0\n",
      "10200000.0\n",
      "10300000.0\n",
      "10400000.0\n",
      "10500000.0\n",
      "10600000.0\n",
      "10700000.0\n"
     ]
    }
   ],
   "source": [
    "g = grouped.apply(aggregate_groups)"
   ]
  },
  {
   "cell_type": "code",
   "execution_count": 52,
   "metadata": {
    "collapsed": true
   },
   "outputs": [],
   "source": [
    "del grouped"
   ]
  },
  {
   "cell_type": "code",
   "execution_count": 53,
   "metadata": {
    "collapsed": true
   },
   "outputs": [],
   "source": [
    "g.Id = g.Id.astype(int)\n",
    "g.cnt = g.cnt.astype(int)"
   ]
  },
  {
   "cell_type": "code",
   "execution_count": 54,
   "metadata": {
    "collapsed": false
   },
   "outputs": [
    {
     "name": "stdout",
     "output_type": "stream",
     "text": [
      "<class 'pandas.core.frame.DataFrame'>\n",
      "Int64Index: 1898570 entries, 1 to 10717625\n",
      "Data columns (total 25 columns):\n",
      "Id                           int64\n",
      "Expected                     float64\n",
      "cnt                          int64\n",
      "null_ratio                   float64\n",
      "radardist_km                 float64\n",
      "Ref_mp                       float64\n",
      "Ref_ecs                      float64\n",
      "Ref_wcs                      float64\n",
      "Ref_w8c                      float64\n",
      "Ref_rt                       float64\n",
      "Ref_5x5_50th_mp              float64\n",
      "Ref_5x5_50th_ecs             float64\n",
      "Ref_5x5_50th_wcs             float64\n",
      "Ref_5x5_50th_w8c             float64\n",
      "Ref_5x5_50th_rt              float64\n",
      "RefComposite_mp              float64\n",
      "RefComposite_ecs             float64\n",
      "RefComposite_wcs             float64\n",
      "RefComposite_w8c             float64\n",
      "RefComposite_rt              float64\n",
      "RefComposite_5x5_50th_mp     float64\n",
      "RefComposite_5x5_50th_ecs    float64\n",
      "RefComposite_5x5_50th_wcs    float64\n",
      "RefComposite_5x5_50th_w8c    float64\n",
      "RefComposite_5x5_50th_rt     float64\n",
      "dtypes: float64(23), int64(2)\n",
      "memory usage: 376.6 MB\n"
     ]
    }
   ],
   "source": [
    "g.info()"
   ]
  },
  {
   "cell_type": "code",
   "execution_count": 55,
   "metadata": {
    "collapsed": false
   },
   "outputs": [],
   "source": [
    "g[:30]\n",
    "g.to_csv('tmp/grouped_mp_02.csv')"
   ]
  }
 ],
 "metadata": {
  "kernelspec": {
   "display_name": "Python 2",
   "language": "python",
   "name": "python2"
  },
  "language_info": {
   "codemirror_mode": {
    "name": "ipython",
    "version": 2
   },
   "file_extension": ".py",
   "mimetype": "text/x-python",
   "name": "python",
   "nbconvert_exporter": "python",
   "pygments_lexer": "ipython2",
   "version": "2.7.10"
  }
 },
 "nbformat": 4,
 "nbformat_minor": 0
}
