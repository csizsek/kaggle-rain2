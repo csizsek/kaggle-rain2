{
 "cells": [
  {
   "cell_type": "code",
   "execution_count": 2,
   "metadata": {
    "collapsed": false
   },
   "outputs": [
    {
     "name": "stdout",
     "output_type": "stream",
     "text": [
      "Populating the interactive namespace from numpy and matplotlib\n"
     ]
    },
    {
     "name": "stderr",
     "output_type": "stream",
     "text": [
      "WARNING: pylab import has clobbered these variables: ['f']\n",
      "`%matplotlib` prevents importing * from pylab and numpy\n"
     ]
    }
   ],
   "source": [
    "import pandas as pd\n",
    "import numpy as np\n",
    "from pandas import DataFrame, Series\n",
    "import matplotlib.pyplot as plt\n",
    "from pylab import rcParams\n",
    "%pylab inline\n",
    "rcParams['figure.figsize'] = 12, 6\n",
    "from sklearn.ensemble import ExtraTreesClassifier\n",
    "from sklearn.ensemble import GradientBoostingRegressor"
   ]
  },
  {
   "cell_type": "code",
   "execution_count": 2,
   "metadata": {
    "collapsed": true
   },
   "outputs": [],
   "source": [
    "s = pd.read_csv('tmp/grouped.csv').sample(100000)"
   ]
  },
  {
   "cell_type": "code",
   "execution_count": 3,
   "metadata": {
    "collapsed": true
   },
   "outputs": [],
   "source": [
    "tr = s[s.Expected != -1]\n",
    "te = s[s.Expected == -1]"
   ]
  },
  {
   "cell_type": "code",
   "execution_count": 4,
   "metadata": {
    "collapsed": false
   },
   "outputs": [
    {
     "name": "stdout",
     "output_type": "stream",
     "text": [
      "<class 'pandas.core.frame.DataFrame'>\n",
      "Int64Index: 62100 entries, 556207 to 963621\n",
      "Data columns (total 92 columns):\n",
      "Id                            62100 non-null float64\n",
      "Expected                      62100 non-null float64\n",
      "cnt                           62100 non-null float64\n",
      "null_ratio                    62100 non-null float64\n",
      "minutes_past_mean             62100 non-null float64\n",
      "minutes_past_min              62100 non-null float64\n",
      "minutes_past_max              62100 non-null float64\n",
      "minutes_past_std              62091 non-null float64\n",
      "radardist_km_mean             62100 non-null float64\n",
      "radardist_km_min              62100 non-null float64\n",
      "radardist_km_max              62100 non-null float64\n",
      "radardist_km_std              62091 non-null float64\n",
      "Ref_mean                      38418 non-null float64\n",
      "Ref_min                       38418 non-null float64\n",
      "Ref_max                       38418 non-null float64\n",
      "Ref_std                       36017 non-null float64\n",
      "Ref_5x5_10th_mean             33308 non-null float64\n",
      "Ref_5x5_10th_min              33308 non-null float64\n",
      "Ref_5x5_10th_max              33308 non-null float64\n",
      "Ref_5x5_10th_std              30994 non-null float64\n",
      "Ref_5x5_50th_mean             37209 non-null float64\n",
      "Ref_5x5_50th_min              37209 non-null float64\n",
      "Ref_5x5_50th_max              37209 non-null float64\n",
      "Ref_5x5_50th_std              35329 non-null float64\n",
      "Ref_5x5_90th_mean             41678 non-null float64\n",
      "Ref_5x5_90th_min              41678 non-null float64\n",
      "Ref_5x5_90th_max              41678 non-null float64\n",
      "Ref_5x5_90th_std              39689 non-null float64\n",
      "RefComposite_mean             38903 non-null float64\n",
      "RefComposite_min              38903 non-null float64\n",
      "RefComposite_max              38903 non-null float64\n",
      "RefComposite_std              36606 non-null float64\n",
      "RefComposite_5x5_10th_mean    34060 non-null float64\n",
      "RefComposite_5x5_10th_min     34060 non-null float64\n",
      "RefComposite_5x5_10th_max     34060 non-null float64\n",
      "RefComposite_5x5_10th_std     32003 non-null float64\n",
      "RefComposite_5x5_50th_mean    37695 non-null float64\n",
      "RefComposite_5x5_50th_min     37695 non-null float64\n",
      "RefComposite_5x5_50th_max     37695 non-null float64\n",
      "RefComposite_5x5_50th_std     35912 non-null float64\n",
      "RefComposite_5x5_90th_mean    42166 non-null float64\n",
      "RefComposite_5x5_90th_min     42166 non-null float64\n",
      "RefComposite_5x5_90th_max     42166 non-null float64\n",
      "RefComposite_5x5_90th_std     40151 non-null float64\n",
      "RhoHV_mean                    31099 non-null float64\n",
      "RhoHV_min                     31099 non-null float64\n",
      "RhoHV_max                     31099 non-null float64\n",
      "RhoHV_std                     28600 non-null float64\n",
      "RhoHV_5x5_10th_mean           26623 non-null float64\n",
      "RhoHV_5x5_10th_min            26623 non-null float64\n",
      "RhoHV_5x5_10th_max            26623 non-null float64\n",
      "RhoHV_5x5_10th_std            24386 non-null float64\n",
      "RhoHV_5x5_50th_mean           30104 non-null float64\n",
      "RhoHV_5x5_50th_min            30104 non-null float64\n",
      "RhoHV_5x5_50th_max            30104 non-null float64\n",
      "RhoHV_5x5_50th_std            28067 non-null float64\n",
      "RhoHV_5x5_90th_mean           34358 non-null float64\n",
      "RhoHV_5x5_90th_min            34358 non-null float64\n",
      "RhoHV_5x5_90th_max            34358 non-null float64\n",
      "RhoHV_5x5_90th_std            32174 non-null float64\n",
      "Zdr_mean                      31099 non-null float64\n",
      "Zdr_min                       31099 non-null float64\n",
      "Zdr_max                       31099 non-null float64\n",
      "Zdr_std                       28600 non-null float64\n",
      "Zdr_5x5_10th_mean             26623 non-null float64\n",
      "Zdr_5x5_10th_min              26623 non-null float64\n",
      "Zdr_5x5_10th_max              26623 non-null float64\n",
      "Zdr_5x5_10th_std              24386 non-null float64\n",
      "Zdr_5x5_50th_mean             30104 non-null float64\n",
      "Zdr_5x5_50th_min              30104 non-null float64\n",
      "Zdr_5x5_50th_max              30104 non-null float64\n",
      "Zdr_5x5_50th_std              28067 non-null float64\n",
      "Zdr_5x5_90th_mean             34358 non-null float64\n",
      "Zdr_5x5_90th_min              34358 non-null float64\n",
      "Zdr_5x5_90th_max              34358 non-null float64\n",
      "Zdr_5x5_90th_std              32174 non-null float64\n",
      "Kdp_mean                      28351 non-null float64\n",
      "Kdp_min                       28351 non-null float64\n",
      "Kdp_max                       28351 non-null float64\n",
      "Kdp_std                       25793 non-null float64\n",
      "Kdp_5x5_10th_mean             24140 non-null float64\n",
      "Kdp_5x5_10th_min              24140 non-null float64\n",
      "Kdp_5x5_10th_max              24140 non-null float64\n",
      "Kdp_5x5_10th_std              21664 non-null float64\n",
      "Kdp_5x5_50th_mean             27580 non-null float64\n",
      "Kdp_5x5_50th_min              27580 non-null float64\n",
      "Kdp_5x5_50th_max              27580 non-null float64\n",
      "Kdp_5x5_50th_std              25363 non-null float64\n",
      "Kdp_5x5_90th_mean             31201 non-null float64\n",
      "Kdp_5x5_90th_min              31201 non-null float64\n",
      "Kdp_5x5_90th_max              31201 non-null float64\n",
      "Kdp_5x5_90th_std              29104 non-null float64\n",
      "dtypes: float64(92)\n",
      "memory usage: 44.1 MB\n"
     ]
    }
   ],
   "source": [
    "tr.info()"
   ]
  },
  {
   "cell_type": "code",
   "execution_count": 5,
   "metadata": {
    "collapsed": false
   },
   "outputs": [
    {
     "name": "stderr",
     "output_type": "stream",
     "text": [
      "/Library/Python/2.7/site-packages/IPython/kernel/__main__.py:27: SettingWithCopyWarning: \n",
      "A value is trying to be set on a copy of a slice from a DataFrame.\n",
      "Try using .loc[row_indexer,col_indexer] = value instead\n",
      "\n",
      "See the the caveats in the documentation: http://pandas.pydata.org/pandas-docs/stable/indexing.html#indexing-view-versus-copy\n"
     ]
    }
   ],
   "source": [
    "base_metrics = [\n",
    "    'Ref',\n",
    "    'RefComposite',\n",
    "    'RhoHV',\n",
    "    'Zdr',\n",
    "    'Kdp'\n",
    "]\n",
    "metric_modifiers = [\n",
    "    '',\n",
    "    '_5x5_10th',\n",
    "    '_5x5_50th',\n",
    "    '_5x5_90th'\n",
    "]\n",
    "metric_stats = [\n",
    "    '_mean',\n",
    "    '_min',\n",
    "    '_max'\n",
    "]\n",
    "for bm1 in base_metrics:\n",
    "    for mm1 in metric_modifiers:\n",
    "        for ms1 in metric_stats:\n",
    "            for bm2 in base_metrics:\n",
    "                for mm2 in metric_modifiers:\n",
    "                    for ms2 in metric_stats:\n",
    "                        m1 = bm1 + mm1 + ms1\n",
    "                        m2 = bm2 + mm2 + ms2\n",
    "                        tr[m1 + '_per_' + m2] = tr[m1] / tr[m2]"
   ]
  },
  {
   "cell_type": "code",
   "execution_count": 6,
   "metadata": {
    "collapsed": false
   },
   "outputs": [
    {
     "name": "stdout",
     "output_type": "stream",
     "text": [
      "<class 'pandas.core.frame.DataFrame'>\n",
      "Int64Index: 62100 entries, 556207 to 963621\n",
      "Columns: 3692 entries, Id to Kdp_5x5_90th_max_per_Kdp_5x5_90th_max\n",
      "dtypes: float64(3692)\n",
      "memory usage: 1.7 GB\n"
     ]
    }
   ],
   "source": [
    "tr.info()"
   ]
  },
  {
   "cell_type": "code",
   "execution_count": 7,
   "metadata": {
    "collapsed": true
   },
   "outputs": [],
   "source": [
    "trl = tr.Expected\n",
    "del tr['Expected']"
   ]
  },
  {
   "cell_type": "code",
   "execution_count": 8,
   "metadata": {
    "collapsed": false
   },
   "outputs": [],
   "source": [
    "tr = tr.replace([np.inf, -np.inf], 0)\n",
    "tr = tr.fillna(0)"
   ]
  },
  {
   "cell_type": "code",
   "execution_count": 9,
   "metadata": {
    "collapsed": false
   },
   "outputs": [],
   "source": [
    "regr = GradientBoostingRegressor(n_estimators=300, max_depth=5, )"
   ]
  },
  {
   "cell_type": "code",
   "execution_count": 10,
   "metadata": {
    "collapsed": false
   },
   "outputs": [
    {
     "data": {
      "text/plain": [
       "GradientBoostingRegressor(alpha=0.9, init=None, learning_rate=0.1, loss='ls',\n",
       "             max_depth=5, max_features=None, max_leaf_nodes=None,\n",
       "             min_samples_leaf=1, min_samples_split=2,\n",
       "             min_weight_fraction_leaf=0.0, n_estimators=300,\n",
       "             random_state=None, subsample=1.0, verbose=0, warm_start=False)"
      ]
     },
     "execution_count": 10,
     "metadata": {},
     "output_type": "execute_result"
    }
   ],
   "source": [
    "regr.fit(tr, trl)"
   ]
  },
  {
   "cell_type": "code",
   "execution_count": 11,
   "metadata": {
    "collapsed": false
   },
   "outputs": [
    {
     "name": "stdout",
     "output_type": "stream",
     "text": [
      "1. feature 0 (0.153560) Id\n",
      "2. feature 3 (0.051359) minutes_past_mean\n",
      "3. feature 6 (0.044215) minutes_past_std\n",
      "4. feature 2 (0.033740) null_ratio\n",
      "5. feature 9 (0.032285) radardist_km_max\n",
      "6. feature 8 (0.026766) radardist_km_min\n",
      "7. feature 7 (0.026355) radardist_km_mean\n",
      "8. feature 1 (0.021750) cnt\n",
      "9. feature 4 (0.020349) minutes_past_min\n",
      "10. feature 5 (0.020017) minutes_past_max\n",
      "11. feature 108 (0.010430) Ref_mean_per_RefComposite_5x5_10th_max\n",
      "12. feature 28 (0.006948) RefComposite_min\n",
      "13. feature 74 (0.006834) Zdr_5x5_90th_std\n",
      "14. feature 1362 (0.006759) RefComposite_5x5_90th_mean_per_Ref_5x5_90th_max\n",
      "15. feature 2946 (0.005735) Zdr_5x5_90th_max_per_RhoHV_5x5_90th_max\n",
      "16. feature 954 (0.005535) RefComposite_max_per_RefComposite_5x5_90th_max\n",
      "17. feature 2886 (0.005377) Zdr_5x5_90th_min_per_RhoHV_5x5_90th_max\n",
      "18. feature 2826 (0.005127) Zdr_5x5_90th_mean_per_RhoHV_5x5_90th_max\n",
      "19. feature 25 (0.004989) Ref_5x5_90th_max\n",
      "20. feature 2178 (0.004347) RhoHV_5x5_90th_min_per_Zdr_5x5_90th_max\n",
      "21. feature 41 (0.003988) RefComposite_5x5_90th_max\n",
      "22. feature 30 (0.003527) RefComposite_std\n",
      "23. feature 942 (0.003259) RefComposite_max_per_Ref_5x5_90th_max\n",
      "24. feature 3085 (0.002980) Kdp_min_per_Kdp_5x5_50th_mean\n",
      "25. feature 39 (0.002846) RefComposite_5x5_90th_mean\n",
      "26. feature 40 (0.002817) RefComposite_5x5_90th_min\n",
      "27. feature 2862 (0.002803) Zdr_5x5_90th_min_per_Ref_5x5_90th_max\n",
      "28. feature 3505 (0.002789) Kdp_5x5_50th_max_per_Kdp_5x5_50th_mean\n",
      "29. feature 2944 (0.002743) Zdr_5x5_90th_max_per_RhoHV_5x5_90th_mean\n",
      "30. feature 2829 (0.002648) Zdr_5x5_90th_mean_per_Zdr_max\n",
      "31. feature 3079 (0.002631) Kdp_min_per_Kdp_mean\n",
      "32. feature 2296 (0.002602) Zdr_mean_per_Zdr_5x5_90th_mean\n",
      "33. feature 3618 (0.002580) Kdp_5x5_90th_min_per_Zdr_5x5_90th_max\n",
      "34. feature 774 (0.002579) Ref_5x5_90th_max_per_RefComposite_5x5_90th_max\n",
      "35. feature 2945 (0.002575) Zdr_5x5_90th_max_per_RhoHV_5x5_90th_min\n",
      "36. feature 1302 (0.002549) RefComposite_5x5_50th_max_per_Ref_5x5_90th_max\n",
      "37. feature 712 (0.002518) Ref_5x5_90th_min_per_RefComposite_5x5_90th_mean\n",
      "38. feature 2094 (0.002489) RhoHV_5x5_90th_mean_per_RefComposite_5x5_90th_max\n",
      "39. feature 2657 (0.002398) Zdr_5x5_50th_mean_per_Zdr_5x5_90th_min\n",
      "40. feature 2937 (0.002316) Zdr_5x5_90th_max_per_RhoHV_max\n",
      "41. feature 2825 (0.002279) Zdr_5x5_90th_mean_per_RhoHV_5x5_90th_min\n",
      "42. feature 292 (0.002269) Ref_5x5_10th_mean_per_RefComposite_5x5_90th_mean\n",
      "43. feature 702 (0.002269) Ref_5x5_90th_min_per_Ref_5x5_90th_max\n",
      "44. feature 2824 (0.002265) Zdr_5x5_90th_mean_per_RhoHV_5x5_90th_mean\n",
      "45. feature 2802 (0.002263) Zdr_5x5_90th_mean_per_Ref_5x5_90th_max\n",
      "46. feature 147 (0.002261) Ref_mean_per_Kdp_5x5_50th_max\n",
      "47. feature 566 (0.002224) Ref_5x5_50th_min_per_Kdp_5x5_50th_min\n",
      "48. feature 1126 (0.002166) RefComposite_5x5_10th_max_per_RefComposite_5x5_10th_mean\n",
      "49. feature 57 (0.002152) RhoHV_5x5_90th_max\n",
      "50. feature 3615 (0.002117) Kdp_5x5_90th_min_per_Zdr_5x5_50th_max\n",
      "51. feature 71 (0.002100) Zdr_5x5_90th_mean\n",
      "52. feature 471 (0.002041) Ref_5x5_50th_mean_per_RefComposite_5x5_50th_max\n",
      "53. feature 761 (0.002040) Ref_5x5_90th_max_per_Ref_5x5_90th_min\n",
      "54. feature 2884 (0.002036) Zdr_5x5_90th_min_per_RhoHV_5x5_90th_mean\n",
      "55. feature 834 (0.002032) RefComposite_mean_per_RefComposite_5x5_90th_max\n",
      "56. feature 451 (0.002014) Ref_5x5_50th_mean_per_Ref_mean\n",
      "57. feature 1008 (0.001996) RefComposite_5x5_10th_mean_per_RefComposite_5x5_10th_max\n",
      "58. feature 678 (0.001974) Ref_5x5_90th_mean_per_Zdr_5x5_90th_max\n",
      "59. feature 2928 (0.001942) Zdr_5x5_90th_max_per_RefComposite_5x5_10th_max\n",
      "60. feature 3313 (0.001935) Kdp_5x5_10th_max_per_Zdr_5x5_50th_mean\n",
      "61. feature 72 (0.001918) Zdr_5x5_90th_min\n",
      "62. feature 2253 (0.001897) Zdr_mean_per_Ref_max\n",
      "63. feature 1372 (0.001828) RefComposite_5x5_90th_mean_per_RefComposite_5x5_90th_mean\n",
      "64. feature 3445 (0.001810) Kdp_5x5_50th_min_per_Kdp_5x5_50th_mean\n",
      "65. feature 2118 (0.001806) RhoHV_5x5_90th_mean_per_Zdr_5x5_90th_max\n",
      "66. feature 1665 (0.001786) RhoHV_max_per_RefComposite_max\n",
      "67. feature 828 (0.001774) RefComposite_mean_per_RefComposite_5x5_10th_max\n",
      "68. feature 29 (0.001763) RefComposite_max\n",
      "69. feature 3139 (0.001762) Kdp_max_per_Kdp_mean\n",
      "70. feature 2382 (0.001750) Zdr_max_per_Ref_5x5_90th_max\n",
      "71. feature 591 (0.001749) Ref_5x5_50th_max_per_RefComposite_5x5_50th_max\n",
      "72. feature 1507 (0.001740) RefComposite_5x5_90th_max_per_Zdr_mean\n",
      "73. feature 2154 (0.001659) RhoHV_5x5_90th_min_per_RefComposite_5x5_90th_max\n",
      "74. feature 2956 (0.001658) Zdr_5x5_90th_max_per_Zdr_5x5_90th_mean\n",
      "75. feature 3131 (0.001631) Kdp_max_per_Zdr_5x5_10th_min\n",
      "76. feature 506 (0.001625) Ref_5x5_50th_mean_per_Kdp_5x5_50th_min\n",
      "77. feature 12 (0.001606) Ref_min\n",
      "78. feature 2599 (0.001605) Zdr_5x5_10th_max_per_Kdp_mean\n",
      "79. feature 1314 (0.001592) RefComposite_5x5_50th_max_per_RefComposite_5x5_90th_max\n",
      "80. feature 2828 (0.001591) Zdr_5x5_90th_mean_per_Zdr_min\n",
      "81. feature 2909 (0.001590) Zdr_5x5_90th_min_per_Kdp_5x5_90th_min\n",
      "82. feature 1365 (0.001583) RefComposite_5x5_90th_mean_per_RefComposite_max\n",
      "83. feature 3611 (0.001580) Kdp_5x5_90th_min_per_Zdr_5x5_10th_min\n",
      "84. feature 3017 (0.001566) Kdp_mean_per_Zdr_5x5_90th_min\n",
      "85. feature 894 (0.001529) RefComposite_min_per_RefComposite_5x5_90th_max\n",
      "86. feature 2882 (0.001523) Zdr_5x5_90th_min_per_RhoHV_5x5_50th_min\n",
      "87. feature 1149 (0.001518) RefComposite_5x5_10th_max_per_Zdr_max\n",
      "88. feature 2600 (0.001517) Zdr_5x5_10th_max_per_Kdp_min\n",
      "89. feature 2936 (0.001486) Zdr_5x5_90th_max_per_RhoHV_min\n",
      "90. feature 1566 (0.001466) RhoHV_mean_per_RhoHV_5x5_90th_max\n",
      "91. feature 882 (0.001451) RefComposite_min_per_Ref_5x5_90th_max\n",
      "92. feature 42 (0.001442) RefComposite_5x5_90th_std\n",
      "93. feature 234 (0.001439) Ref_max_per_RefComposite_5x5_90th_max\n",
      "94. feature 713 (0.001431) Ref_5x5_90th_min_per_RefComposite_5x5_90th_min\n",
      "95. feature 3689 (0.001429) Kdp_5x5_90th_max_per_Kdp_5x5_90th_min\n",
      "96. feature 3142 (0.001428) Kdp_max_per_Kdp_5x5_10th_mean\n",
      "97. feature 3374 (0.001418) Kdp_5x5_50th_mean_per_Zdr_5x5_50th_min\n",
      "98. feature 289 (0.001400) Ref_5x5_10th_mean_per_RefComposite_5x5_50th_mean\n",
      "99. feature 1961 (0.001399) RhoHV_5x5_50th_min_per_Ref_5x5_90th_min\n",
      "100. feature 391 (0.001381) Ref_5x5_10th_max_per_Ref_mean\n"
     ]
    }
   ],
   "source": [
    "importances = regr.feature_importances_\n",
    "indices = np.argsort(importances)[::-1]\n",
    "for f in range(100):\n",
    "    print(\"%d. feature %d (%f) %s\" % (f + 1, indices[f], importances[indices[f]], tr.columns[indices[f]]))"
   ]
  }
 ],
 "metadata": {
  "kernelspec": {
   "display_name": "Python 2",
   "language": "python",
   "name": "python2"
  },
  "language_info": {
   "codemirror_mode": {
    "name": "ipython",
    "version": 2
   },
   "file_extension": ".py",
   "mimetype": "text/x-python",
   "name": "python",
   "nbconvert_exporter": "python",
   "pygments_lexer": "ipython2",
   "version": "2.7.10"
  }
 },
 "nbformat": 4,
 "nbformat_minor": 0
}
