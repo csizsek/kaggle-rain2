{
 "cells": [
  {
   "cell_type": "code",
   "execution_count": 51,
   "metadata": {
    "collapsed": false
   },
   "outputs": [
    {
     "name": "stdout",
     "output_type": "stream",
     "text": [
      "Populating the interactive namespace from numpy and matplotlib\n"
     ]
    },
    {
     "name": "stderr",
     "output_type": "stream",
     "text": [
      "WARNING: pylab import has clobbered these variables: ['e']\n",
      "`%matplotlib` prevents importing * from pylab and numpy\n"
     ]
    }
   ],
   "source": [
    "import pandas as pd\n",
    "import numpy as np\n",
    "from pandas import DataFrame, Series\n",
    "import matplotlib.pyplot as plt\n",
    "from pylab import rcParams\n",
    "%pylab inline\n",
    "rcParams['figure.figsize'] = 12, 6\n",
    "import xgboost as xgb\n",
    "from sklearn.metrics import mean_absolute_error"
   ]
  },
  {
   "cell_type": "code",
   "execution_count": 52,
   "metadata": {
    "collapsed": false
   },
   "outputs": [],
   "source": [
    "d = pd.read_csv('tmp/grouped_mp_02.csv')"
   ]
  },
  {
   "cell_type": "code",
   "execution_count": 53,
   "metadata": {
    "collapsed": false
   },
   "outputs": [
    {
     "name": "stderr",
     "output_type": "stream",
     "text": [
      "/Library/Python/2.7/site-packages/IPython/kernel/__main__.py:11: SettingWithCopyWarning: \n",
      "A value is trying to be set on a copy of a slice from a DataFrame.\n",
      "Try using .loc[row_indexer,col_indexer] = value instead\n",
      "\n",
      "See the the caveats in the documentation: http://pandas.pydata.org/pandas-docs/stable/indexing.html#indexing-view-versus-copy\n"
     ]
    },
    {
     "data": {
      "text/html": [
       "<div>\n",
       "<table border=\"1\" class=\"dataframe\">\n",
       "  <thead>\n",
       "    <tr style=\"text-align: right;\">\n",
       "      <th></th>\n",
       "      <th>Id</th>\n",
       "      <th>Expected</th>\n",
       "    </tr>\n",
       "  </thead>\n",
       "  <tbody>\n",
       "    <tr>\n",
       "      <th>count</th>\n",
       "      <td>14088.000000</td>\n",
       "      <td>14088.000000</td>\n",
       "    </tr>\n",
       "    <tr>\n",
       "      <th>mean</th>\n",
       "      <td>10355144.278322</td>\n",
       "      <td>1.379041</td>\n",
       "    </tr>\n",
       "    <tr>\n",
       "      <th>std</th>\n",
       "      <td>207723.082816</td>\n",
       "      <td>9.848508</td>\n",
       "    </tr>\n",
       "    <tr>\n",
       "      <th>min</th>\n",
       "      <td>10000010.000000</td>\n",
       "      <td>0.474933</td>\n",
       "    </tr>\n",
       "    <tr>\n",
       "      <th>25%</th>\n",
       "      <td>10157336.500000</td>\n",
       "      <td>0.497384</td>\n",
       "    </tr>\n",
       "    <tr>\n",
       "      <th>50%</th>\n",
       "      <td>10364704.500000</td>\n",
       "      <td>0.523220</td>\n",
       "    </tr>\n",
       "    <tr>\n",
       "      <th>75%</th>\n",
       "      <td>10537966.500000</td>\n",
       "      <td>0.584060</td>\n",
       "    </tr>\n",
       "    <tr>\n",
       "      <th>max</th>\n",
       "      <td>10717540.000000</td>\n",
       "      <td>149.495438</td>\n",
       "    </tr>\n",
       "  </tbody>\n",
       "</table>\n",
       "</div>"
      ],
      "text/plain": [
       "                    Id      Expected\n",
       "count     14088.000000  14088.000000\n",
       "mean   10355144.278322      1.379041\n",
       "std      207723.082816      9.848508\n",
       "min    10000010.000000      0.474933\n",
       "25%    10157336.500000      0.497384\n",
       "50%    10364704.500000      0.523220\n",
       "75%    10537966.500000      0.584060\n",
       "max    10717540.000000    149.495438"
      ]
     },
     "execution_count": 53,
     "metadata": {},
     "output_type": "execute_result"
    }
   ],
   "source": [
    "e = d[(d.cnt < 10) &\n",
    "           (d.null_ratio < 0.02)]\n",
    "tr = e[e.Expected != -1]\n",
    "trl = tr.Expected\n",
    "del tr['Expected']\n",
    "te = e[e.Expected == -1]\n",
    "tel = te.Expected\n",
    "del te['Expected']\n",
    "m = xgb.XGBRegressor(learning_rate=0.06, min_child_weight=1, n_estimators=1, max_depth=20)\n",
    "m.fit(tr, trl)\n",
    "te['Expected'] = m.predict(te)\n",
    "p1 = te[['Id', 'Expected']]\n",
    "p1.describe()"
   ]
  },
  {
   "cell_type": "code",
   "execution_count": 54,
   "metadata": {
    "collapsed": false
   },
   "outputs": [
    {
     "name": "stderr",
     "output_type": "stream",
     "text": [
      "/Library/Python/2.7/site-packages/IPython/kernel/__main__.py:11: SettingWithCopyWarning: \n",
      "A value is trying to be set on a copy of a slice from a DataFrame.\n",
      "Try using .loc[row_indexer,col_indexer] = value instead\n",
      "\n",
      "See the the caveats in the documentation: http://pandas.pydata.org/pandas-docs/stable/indexing.html#indexing-view-versus-copy\n"
     ]
    },
    {
     "data": {
      "text/html": [
       "<div>\n",
       "<table border=\"1\" class=\"dataframe\">\n",
       "  <thead>\n",
       "    <tr style=\"text-align: right;\">\n",
       "      <th></th>\n",
       "      <th>Id</th>\n",
       "      <th>Expected</th>\n",
       "    </tr>\n",
       "  </thead>\n",
       "  <tbody>\n",
       "    <tr>\n",
       "      <th>count</th>\n",
       "      <td>143618.000000</td>\n",
       "      <td>143618.000000</td>\n",
       "    </tr>\n",
       "    <tr>\n",
       "      <th>mean</th>\n",
       "      <td>10360292.743932</td>\n",
       "      <td>9.662377</td>\n",
       "    </tr>\n",
       "    <tr>\n",
       "      <th>std</th>\n",
       "      <td>207764.150779</td>\n",
       "      <td>61.187660</td>\n",
       "    </tr>\n",
       "    <tr>\n",
       "      <th>min</th>\n",
       "      <td>10000007.000000</td>\n",
       "      <td>-3.847024</td>\n",
       "    </tr>\n",
       "    <tr>\n",
       "      <th>25%</th>\n",
       "      <td>10176106.750000</td>\n",
       "      <td>1.819213</td>\n",
       "    </tr>\n",
       "    <tr>\n",
       "      <th>50%</th>\n",
       "      <td>10365584.500000</td>\n",
       "      <td>3.503293</td>\n",
       "    </tr>\n",
       "    <tr>\n",
       "      <th>75%</th>\n",
       "      <td>10544041.750000</td>\n",
       "      <td>6.899281</td>\n",
       "    </tr>\n",
       "    <tr>\n",
       "      <th>max</th>\n",
       "      <td>10717598.000000</td>\n",
       "      <td>3231.115479</td>\n",
       "    </tr>\n",
       "  </tbody>\n",
       "</table>\n",
       "</div>"
      ],
      "text/plain": [
       "                    Id       Expected\n",
       "count    143618.000000  143618.000000\n",
       "mean   10360292.743932       9.662377\n",
       "std      207764.150779      61.187660\n",
       "min    10000007.000000      -3.847024\n",
       "25%    10176106.750000       1.819213\n",
       "50%    10365584.500000       3.503293\n",
       "75%    10544041.750000       6.899281\n",
       "max    10717598.000000    3231.115479"
      ]
     },
     "execution_count": 54,
     "metadata": {},
     "output_type": "execute_result"
    }
   ],
   "source": [
    "e = d[(10 <= d.cnt) & (d.cnt < 15) &\n",
    "           (d.null_ratio < 0.02)]\n",
    "tr = e[e.Expected != -1]\n",
    "trl = tr.Expected\n",
    "del tr['Expected']\n",
    "te = e[e.Expected == -1]\n",
    "tel = te.Expected\n",
    "del te['Expected']\n",
    "m = xgb.XGBRegressor(learning_rate=0.03, min_child_weight=1, n_estimators=50, max_depth=20)\n",
    "m.fit(tr, trl)\n",
    "te['Expected'] = m.predict(te)\n",
    "p2 = te[['Id', 'Expected']]\n",
    "p2.describe()"
   ]
  },
  {
   "cell_type": "code",
   "execution_count": 55,
   "metadata": {
    "collapsed": false
   },
   "outputs": [
    {
     "name": "stderr",
     "output_type": "stream",
     "text": [
      "/Library/Python/2.7/site-packages/IPython/kernel/__main__.py:11: SettingWithCopyWarning: \n",
      "A value is trying to be set on a copy of a slice from a DataFrame.\n",
      "Try using .loc[row_indexer,col_indexer] = value instead\n",
      "\n",
      "See the the caveats in the documentation: http://pandas.pydata.org/pandas-docs/stable/indexing.html#indexing-view-versus-copy\n"
     ]
    },
    {
     "data": {
      "text/html": [
       "<div>\n",
       "<table border=\"1\" class=\"dataframe\">\n",
       "  <thead>\n",
       "    <tr style=\"text-align: right;\">\n",
       "      <th></th>\n",
       "      <th>Id</th>\n",
       "      <th>Expected</th>\n",
       "    </tr>\n",
       "  </thead>\n",
       "  <tbody>\n",
       "    <tr>\n",
       "      <th>count</th>\n",
       "      <td>19582.000000</td>\n",
       "      <td>19582.000000</td>\n",
       "    </tr>\n",
       "    <tr>\n",
       "      <th>mean</th>\n",
       "      <td>10369195.086406</td>\n",
       "      <td>1.769183</td>\n",
       "    </tr>\n",
       "    <tr>\n",
       "      <th>std</th>\n",
       "      <td>213518.054465</td>\n",
       "      <td>11.707158</td>\n",
       "    </tr>\n",
       "    <tr>\n",
       "      <th>min</th>\n",
       "      <td>10000182.000000</td>\n",
       "      <td>1.006579</td>\n",
       "    </tr>\n",
       "    <tr>\n",
       "      <th>25%</th>\n",
       "      <td>10188486.500000</td>\n",
       "      <td>1.197354</td>\n",
       "    </tr>\n",
       "    <tr>\n",
       "      <th>50%</th>\n",
       "      <td>10377538.000000</td>\n",
       "      <td>1.197354</td>\n",
       "    </tr>\n",
       "    <tr>\n",
       "      <th>75%</th>\n",
       "      <td>10570903.250000</td>\n",
       "      <td>1.750492</td>\n",
       "    </tr>\n",
       "    <tr>\n",
       "      <th>max</th>\n",
       "      <td>10717605.000000</td>\n",
       "      <td>1603.742676</td>\n",
       "    </tr>\n",
       "  </tbody>\n",
       "</table>\n",
       "</div>"
      ],
      "text/plain": [
       "                    Id      Expected\n",
       "count     19582.000000  19582.000000\n",
       "mean   10369195.086406      1.769183\n",
       "std      213518.054465     11.707158\n",
       "min    10000182.000000      1.006579\n",
       "25%    10188486.500000      1.197354\n",
       "50%    10377538.000000      1.197354\n",
       "75%    10570903.250000      1.750492\n",
       "max    10717605.000000   1603.742676"
      ]
     },
     "execution_count": 55,
     "metadata": {},
     "output_type": "execute_result"
    }
   ],
   "source": [
    "e = d[(15 <= d.cnt) &\n",
    "           (d.null_ratio < 0.02)]\n",
    "tr = e[e.Expected != -1]\n",
    "trl = tr.Expected\n",
    "del tr['Expected']\n",
    "te = e[e.Expected == -1]\n",
    "tel = te.Expected\n",
    "del te['Expected']\n",
    "m = xgb.XGBRegressor(learning_rate=0.01, min_child_weight=1, n_estimators=10, max_depth=5)\n",
    "m.fit(tr, trl)\n",
    "te['Expected'] = m.predict(te)\n",
    "p3 = te[['Id', 'Expected']]\n",
    "p3.describe()"
   ]
  },
  {
   "cell_type": "code",
   "execution_count": 56,
   "metadata": {
    "collapsed": false
   },
   "outputs": [
    {
     "name": "stderr",
     "output_type": "stream",
     "text": [
      "/Library/Python/2.7/site-packages/IPython/kernel/__main__.py:11: SettingWithCopyWarning: \n",
      "A value is trying to be set on a copy of a slice from a DataFrame.\n",
      "Try using .loc[row_indexer,col_indexer] = value instead\n",
      "\n",
      "See the the caveats in the documentation: http://pandas.pydata.org/pandas-docs/stable/indexing.html#indexing-view-versus-copy\n"
     ]
    },
    {
     "data": {
      "text/html": [
       "<div>\n",
       "<table border=\"1\" class=\"dataframe\">\n",
       "  <thead>\n",
       "    <tr style=\"text-align: right;\">\n",
       "      <th></th>\n",
       "      <th>Id</th>\n",
       "      <th>Expected</th>\n",
       "    </tr>\n",
       "  </thead>\n",
       "  <tbody>\n",
       "    <tr>\n",
       "      <th>count</th>\n",
       "      <td>28730.000000</td>\n",
       "      <td>28730.000000</td>\n",
       "    </tr>\n",
       "    <tr>\n",
       "      <th>mean</th>\n",
       "      <td>10350155.999930</td>\n",
       "      <td>59.904793</td>\n",
       "    </tr>\n",
       "    <tr>\n",
       "      <th>std</th>\n",
       "      <td>205061.541338</td>\n",
       "      <td>273.517883</td>\n",
       "    </tr>\n",
       "    <tr>\n",
       "      <th>min</th>\n",
       "      <td>10000012.000000</td>\n",
       "      <td>-356.014343</td>\n",
       "    </tr>\n",
       "    <tr>\n",
       "      <th>25%</th>\n",
       "      <td>10169355.250000</td>\n",
       "      <td>1.404917</td>\n",
       "    </tr>\n",
       "    <tr>\n",
       "      <th>50%</th>\n",
       "      <td>10356482.500000</td>\n",
       "      <td>3.413020</td>\n",
       "    </tr>\n",
       "    <tr>\n",
       "      <th>75%</th>\n",
       "      <td>10524387.750000</td>\n",
       "      <td>10.134502</td>\n",
       "    </tr>\n",
       "    <tr>\n",
       "      <th>max</th>\n",
       "      <td>10717624.000000</td>\n",
       "      <td>9730.058594</td>\n",
       "    </tr>\n",
       "  </tbody>\n",
       "</table>\n",
       "</div>"
      ],
      "text/plain": [
       "                    Id      Expected\n",
       "count     28730.000000  28730.000000\n",
       "mean   10350155.999930     59.904793\n",
       "std      205061.541338    273.517883\n",
       "min    10000012.000000   -356.014343\n",
       "25%    10169355.250000      1.404917\n",
       "50%    10356482.500000      3.413020\n",
       "75%    10524387.750000     10.134502\n",
       "max    10717624.000000   9730.058594"
      ]
     },
     "execution_count": 56,
     "metadata": {},
     "output_type": "execute_result"
    }
   ],
   "source": [
    "e = d[(d.cnt < 10) &\n",
    "           ( 0.02 <= d.null_ratio) & (d.null_ratio < 0.65)]\n",
    "tr = e[e.Expected != -1]\n",
    "trl = tr.Expected\n",
    "del tr['Expected']\n",
    "te = e[e.Expected == -1]\n",
    "tel = te.Expected\n",
    "del te['Expected']\n",
    "m = xgb.XGBRegressor(learning_rate=0.06, min_child_weight=1, n_estimators=50, max_depth=20)\n",
    "m.fit(tr, trl)\n",
    "te['Expected'] = m.predict(te)\n",
    "p4 = te[['Id', 'Expected']]\n",
    "p4.describe()"
   ]
  },
  {
   "cell_type": "code",
   "execution_count": 57,
   "metadata": {
    "collapsed": false
   },
   "outputs": [
    {
     "name": "stderr",
     "output_type": "stream",
     "text": [
      "/Library/Python/2.7/site-packages/IPython/kernel/__main__.py:11: SettingWithCopyWarning: \n",
      "A value is trying to be set on a copy of a slice from a DataFrame.\n",
      "Try using .loc[row_indexer,col_indexer] = value instead\n",
      "\n",
      "See the the caveats in the documentation: http://pandas.pydata.org/pandas-docs/stable/indexing.html#indexing-view-versus-copy\n"
     ]
    },
    {
     "data": {
      "text/html": [
       "<div>\n",
       "<table border=\"1\" class=\"dataframe\">\n",
       "  <thead>\n",
       "    <tr style=\"text-align: right;\">\n",
       "      <th></th>\n",
       "      <th>Id</th>\n",
       "      <th>Expected</th>\n",
       "    </tr>\n",
       "  </thead>\n",
       "  <tbody>\n",
       "    <tr>\n",
       "      <th>count</th>\n",
       "      <td>185636.000000</td>\n",
       "      <td>185636.000000</td>\n",
       "    </tr>\n",
       "    <tr>\n",
       "      <th>mean</th>\n",
       "      <td>10364614.294873</td>\n",
       "      <td>43.349148</td>\n",
       "    </tr>\n",
       "    <tr>\n",
       "      <th>std</th>\n",
       "      <td>209047.446655</td>\n",
       "      <td>230.340057</td>\n",
       "    </tr>\n",
       "    <tr>\n",
       "      <th>min</th>\n",
       "      <td>10000003.000000</td>\n",
       "      <td>-154.949005</td>\n",
       "    </tr>\n",
       "    <tr>\n",
       "      <th>25%</th>\n",
       "      <td>10184161.500000</td>\n",
       "      <td>1.878160</td>\n",
       "    </tr>\n",
       "    <tr>\n",
       "      <th>50%</th>\n",
       "      <td>10361649.500000</td>\n",
       "      <td>4.964645</td>\n",
       "    </tr>\n",
       "    <tr>\n",
       "      <th>75%</th>\n",
       "      <td>10545734.500000</td>\n",
       "      <td>12.210669</td>\n",
       "    </tr>\n",
       "    <tr>\n",
       "      <th>max</th>\n",
       "      <td>10717623.000000</td>\n",
       "      <td>25631.322266</td>\n",
       "    </tr>\n",
       "  </tbody>\n",
       "</table>\n",
       "</div>"
      ],
      "text/plain": [
       "                    Id       Expected\n",
       "count    185636.000000  185636.000000\n",
       "mean   10364614.294873      43.349148\n",
       "std      209047.446655     230.340057\n",
       "min    10000003.000000    -154.949005\n",
       "25%    10184161.500000       1.878160\n",
       "50%    10361649.500000       4.964645\n",
       "75%    10545734.500000      12.210669\n",
       "max    10717623.000000   25631.322266"
      ]
     },
     "execution_count": 57,
     "metadata": {},
     "output_type": "execute_result"
    }
   ],
   "source": [
    "e = d[(10 <= d.cnt) & (d.cnt < 15) &\n",
    "           ( 0.02 <= d.null_ratio) & (d.null_ratio < 0.65)]\n",
    "tr = e[e.Expected != -1]\n",
    "trl = tr.Expected\n",
    "del tr['Expected']\n",
    "te = e[e.Expected == -1]\n",
    "tel = te.Expected\n",
    "del te['Expected']\n",
    "m = xgb.XGBRegressor(learning_rate=0.06, min_child_weight=1, n_estimators=50, max_depth=20)\n",
    "m.fit(tr, trl)\n",
    "te['Expected'] = m.predict(te)\n",
    "p5 = te[['Id', 'Expected']]\n",
    "p5.describe()"
   ]
  },
  {
   "cell_type": "code",
   "execution_count": 58,
   "metadata": {
    "collapsed": false
   },
   "outputs": [
    {
     "name": "stderr",
     "output_type": "stream",
     "text": [
      "/Library/Python/2.7/site-packages/IPython/kernel/__main__.py:11: SettingWithCopyWarning: \n",
      "A value is trying to be set on a copy of a slice from a DataFrame.\n",
      "Try using .loc[row_indexer,col_indexer] = value instead\n",
      "\n",
      "See the the caveats in the documentation: http://pandas.pydata.org/pandas-docs/stable/indexing.html#indexing-view-versus-copy\n"
     ]
    },
    {
     "data": {
      "text/html": [
       "<div>\n",
       "<table border=\"1\" class=\"dataframe\">\n",
       "  <thead>\n",
       "    <tr style=\"text-align: right;\">\n",
       "      <th></th>\n",
       "      <th>Id</th>\n",
       "      <th>Expected</th>\n",
       "    </tr>\n",
       "  </thead>\n",
       "  <tbody>\n",
       "    <tr>\n",
       "      <th>count</th>\n",
       "      <td>39184.000000</td>\n",
       "      <td>39184.000000</td>\n",
       "    </tr>\n",
       "    <tr>\n",
       "      <th>mean</th>\n",
       "      <td>10363933.665603</td>\n",
       "      <td>19.579386</td>\n",
       "    </tr>\n",
       "    <tr>\n",
       "      <th>std</th>\n",
       "      <td>210933.305300</td>\n",
       "      <td>128.803574</td>\n",
       "    </tr>\n",
       "    <tr>\n",
       "      <th>min</th>\n",
       "      <td>10000001.000000</td>\n",
       "      <td>-31.212261</td>\n",
       "    </tr>\n",
       "    <tr>\n",
       "      <th>25%</th>\n",
       "      <td>10193004.250000</td>\n",
       "      <td>0.727008</td>\n",
       "    </tr>\n",
       "    <tr>\n",
       "      <th>50%</th>\n",
       "      <td>10360553.000000</td>\n",
       "      <td>1.470496</td>\n",
       "    </tr>\n",
       "    <tr>\n",
       "      <th>75%</th>\n",
       "      <td>10552538.750000</td>\n",
       "      <td>2.889144</td>\n",
       "    </tr>\n",
       "    <tr>\n",
       "      <th>max</th>\n",
       "      <td>10717621.000000</td>\n",
       "      <td>7267.187012</td>\n",
       "    </tr>\n",
       "  </tbody>\n",
       "</table>\n",
       "</div>"
      ],
      "text/plain": [
       "                    Id      Expected\n",
       "count     39184.000000  39184.000000\n",
       "mean   10363933.665603     19.579386\n",
       "std      210933.305300    128.803574\n",
       "min    10000001.000000    -31.212261\n",
       "25%    10193004.250000      0.727008\n",
       "50%    10360553.000000      1.470496\n",
       "75%    10552538.750000      2.889144\n",
       "max    10717621.000000   7267.187012"
      ]
     },
     "execution_count": 58,
     "metadata": {},
     "output_type": "execute_result"
    }
   ],
   "source": [
    "e = d[(15 <= d.cnt) &\n",
    "           ( 0.02 <= d.null_ratio) & (d.null_ratio < 0.65)]\n",
    "tr = e[e.Expected != -1]\n",
    "trl = tr.Expected\n",
    "del tr['Expected']\n",
    "te = e[e.Expected == -1]\n",
    "tel = te.Expected\n",
    "del te['Expected']\n",
    "m = xgb.XGBRegressor(learning_rate=0.01, min_child_weight=1, n_estimators=50, max_depth=20)\n",
    "m.fit(tr, trl)\n",
    "te['Expected'] = m.predict(te)\n",
    "p6 = te[['Id', 'Expected']]\n",
    "p6.describe()"
   ]
  },
  {
   "cell_type": "code",
   "execution_count": 59,
   "metadata": {
    "collapsed": false
   },
   "outputs": [
    {
     "name": "stderr",
     "output_type": "stream",
     "text": [
      "/Library/Python/2.7/site-packages/IPython/kernel/__main__.py:11: SettingWithCopyWarning: \n",
      "A value is trying to be set on a copy of a slice from a DataFrame.\n",
      "Try using .loc[row_indexer,col_indexer] = value instead\n",
      "\n",
      "See the the caveats in the documentation: http://pandas.pydata.org/pandas-docs/stable/indexing.html#indexing-view-versus-copy\n"
     ]
    },
    {
     "data": {
      "text/html": [
       "<div>\n",
       "<table border=\"1\" class=\"dataframe\">\n",
       "  <thead>\n",
       "    <tr style=\"text-align: right;\">\n",
       "      <th></th>\n",
       "      <th>Id</th>\n",
       "      <th>Expected</th>\n",
       "    </tr>\n",
       "  </thead>\n",
       "  <tbody>\n",
       "    <tr>\n",
       "      <th>count</th>\n",
       "      <td>129087.000000</td>\n",
       "      <td>129087.000000</td>\n",
       "    </tr>\n",
       "    <tr>\n",
       "      <th>mean</th>\n",
       "      <td>10345105.765182</td>\n",
       "      <td>29.257853</td>\n",
       "    </tr>\n",
       "    <tr>\n",
       "      <th>std</th>\n",
       "      <td>201256.476581</td>\n",
       "      <td>47.846512</td>\n",
       "    </tr>\n",
       "    <tr>\n",
       "      <th>min</th>\n",
       "      <td>10000005.000000</td>\n",
       "      <td>0.478736</td>\n",
       "    </tr>\n",
       "    <tr>\n",
       "      <th>25%</th>\n",
       "      <td>10171498.000000</td>\n",
       "      <td>0.487973</td>\n",
       "    </tr>\n",
       "    <tr>\n",
       "      <th>50%</th>\n",
       "      <td>10344184.000000</td>\n",
       "      <td>0.559566</td>\n",
       "    </tr>\n",
       "    <tr>\n",
       "      <th>75%</th>\n",
       "      <td>10508341.000000</td>\n",
       "      <td>58.974983</td>\n",
       "    </tr>\n",
       "    <tr>\n",
       "      <th>max</th>\n",
       "      <td>10717622.000000</td>\n",
       "      <td>211.697281</td>\n",
       "    </tr>\n",
       "  </tbody>\n",
       "</table>\n",
       "</div>"
      ],
      "text/plain": [
       "                    Id       Expected\n",
       "count    129087.000000  129087.000000\n",
       "mean   10345105.765182      29.257853\n",
       "std      201256.476581      47.846512\n",
       "min    10000005.000000       0.478736\n",
       "25%    10171498.000000       0.487973\n",
       "50%    10344184.000000       0.559566\n",
       "75%    10508341.000000      58.974983\n",
       "max    10717622.000000     211.697281"
      ]
     },
     "execution_count": 59,
     "metadata": {},
     "output_type": "execute_result"
    }
   ],
   "source": [
    "e = d[(d.cnt < 10) &\n",
    "           ( 0.65 <= d.null_ratio)]\n",
    "tr = e[e.Expected != -1]\n",
    "trl = tr.Expected\n",
    "del tr['Expected']\n",
    "te = e[e.Expected == -1]\n",
    "tel = te.Expected\n",
    "del te['Expected']\n",
    "m = xgb.XGBRegressor(learning_rate=0.01, min_child_weight=1, n_estimators=10, max_depth=20)\n",
    "m.fit(tr, trl)\n",
    "te['Expected'] = m.predict(te)\n",
    "p7 = te[['Id', 'Expected']]\n",
    "p7.describe()"
   ]
  },
  {
   "cell_type": "code",
   "execution_count": 60,
   "metadata": {
    "collapsed": false
   },
   "outputs": [
    {
     "name": "stderr",
     "output_type": "stream",
     "text": [
      "/Library/Python/2.7/site-packages/IPython/kernel/__main__.py:11: SettingWithCopyWarning: \n",
      "A value is trying to be set on a copy of a slice from a DataFrame.\n",
      "Try using .loc[row_indexer,col_indexer] = value instead\n",
      "\n",
      "See the the caveats in the documentation: http://pandas.pydata.org/pandas-docs/stable/indexing.html#indexing-view-versus-copy\n"
     ]
    },
    {
     "data": {
      "text/html": [
       "<div>\n",
       "<table border=\"1\" class=\"dataframe\">\n",
       "  <thead>\n",
       "    <tr style=\"text-align: right;\">\n",
       "      <th></th>\n",
       "      <th>Id</th>\n",
       "      <th>Expected</th>\n",
       "    </tr>\n",
       "  </thead>\n",
       "  <tbody>\n",
       "    <tr>\n",
       "      <th>count</th>\n",
       "      <td>129629.000000</td>\n",
       "      <td>129629.000000</td>\n",
       "    </tr>\n",
       "    <tr>\n",
       "      <th>mean</th>\n",
       "      <td>10361675.282190</td>\n",
       "      <td>1.246814</td>\n",
       "    </tr>\n",
       "    <tr>\n",
       "      <th>std</th>\n",
       "      <td>207274.142851</td>\n",
       "      <td>2.946685</td>\n",
       "    </tr>\n",
       "    <tr>\n",
       "      <th>min</th>\n",
       "      <td>10000021.000000</td>\n",
       "      <td>0.496730</td>\n",
       "    </tr>\n",
       "    <tr>\n",
       "      <th>25%</th>\n",
       "      <td>10186677.000000</td>\n",
       "      <td>0.498770</td>\n",
       "    </tr>\n",
       "    <tr>\n",
       "      <th>50%</th>\n",
       "      <td>10357966.000000</td>\n",
       "      <td>0.500040</td>\n",
       "    </tr>\n",
       "    <tr>\n",
       "      <th>75%</th>\n",
       "      <td>10542819.000000</td>\n",
       "      <td>0.512956</td>\n",
       "    </tr>\n",
       "    <tr>\n",
       "      <th>max</th>\n",
       "      <td>10717619.000000</td>\n",
       "      <td>25.739698</td>\n",
       "    </tr>\n",
       "  </tbody>\n",
       "</table>\n",
       "</div>"
      ],
      "text/plain": [
       "                    Id       Expected\n",
       "count    129629.000000  129629.000000\n",
       "mean   10361675.282190       1.246814\n",
       "std      207274.142851       2.946685\n",
       "min    10000021.000000       0.496730\n",
       "25%    10186677.000000       0.498770\n",
       "50%    10357966.000000       0.500040\n",
       "75%    10542819.000000       0.512956\n",
       "max    10717619.000000      25.739698"
      ]
     },
     "execution_count": 60,
     "metadata": {},
     "output_type": "execute_result"
    }
   ],
   "source": [
    "e = d[(10 <= d.cnt) & (d.cnt < 15) &\n",
    "           ( 0.65 <= d.null_ratio)]\n",
    "tr = e[e.Expected != -1]\n",
    "trl = tr.Expected\n",
    "del tr['Expected']\n",
    "te = e[e.Expected == -1]\n",
    "tel = te.Expected\n",
    "del te['Expected']\n",
    "m = xgb.XGBRegressor(learning_rate=0.01, min_child_weight=1, n_estimators=1, max_depth=20)\n",
    "m.fit(tr, trl)\n",
    "te['Expected'] = m.predict(te)\n",
    "p8 = te[['Id', 'Expected']]\n",
    "p8.describe()"
   ]
  },
  {
   "cell_type": "code",
   "execution_count": 61,
   "metadata": {
    "collapsed": false
   },
   "outputs": [
    {
     "name": "stderr",
     "output_type": "stream",
     "text": [
      "/Library/Python/2.7/site-packages/IPython/kernel/__main__.py:11: SettingWithCopyWarning: \n",
      "A value is trying to be set on a copy of a slice from a DataFrame.\n",
      "Try using .loc[row_indexer,col_indexer] = value instead\n",
      "\n",
      "See the the caveats in the documentation: http://pandas.pydata.org/pandas-docs/stable/indexing.html#indexing-view-versus-copy\n"
     ]
    },
    {
     "data": {
      "text/html": [
       "<div>\n",
       "<table border=\"1\" class=\"dataframe\">\n",
       "  <thead>\n",
       "    <tr style=\"text-align: right;\">\n",
       "      <th></th>\n",
       "      <th>Id</th>\n",
       "      <th>Expected</th>\n",
       "    </tr>\n",
       "  </thead>\n",
       "  <tbody>\n",
       "    <tr>\n",
       "      <th>count</th>\n",
       "      <td>28071.000000</td>\n",
       "      <td>28071.000000</td>\n",
       "    </tr>\n",
       "    <tr>\n",
       "      <th>mean</th>\n",
       "      <td>10359005.169499</td>\n",
       "      <td>4.170567</td>\n",
       "    </tr>\n",
       "    <tr>\n",
       "      <th>std</th>\n",
       "      <td>206628.074621</td>\n",
       "      <td>6.496635</td>\n",
       "    </tr>\n",
       "    <tr>\n",
       "      <th>min</th>\n",
       "      <td>10000002.000000</td>\n",
       "      <td>0.496935</td>\n",
       "    </tr>\n",
       "    <tr>\n",
       "      <th>25%</th>\n",
       "      <td>10187585.000000</td>\n",
       "      <td>0.498155</td>\n",
       "    </tr>\n",
       "    <tr>\n",
       "      <th>50%</th>\n",
       "      <td>10359769.000000</td>\n",
       "      <td>0.502580</td>\n",
       "    </tr>\n",
       "    <tr>\n",
       "      <th>75%</th>\n",
       "      <td>10541131.000000</td>\n",
       "      <td>4.307502</td>\n",
       "    </tr>\n",
       "    <tr>\n",
       "      <th>max</th>\n",
       "      <td>10717625.000000</td>\n",
       "      <td>21.622719</td>\n",
       "    </tr>\n",
       "  </tbody>\n",
       "</table>\n",
       "</div>"
      ],
      "text/plain": [
       "                    Id      Expected\n",
       "count     28071.000000  28071.000000\n",
       "mean   10359005.169499      4.170567\n",
       "std      206628.074621      6.496635\n",
       "min    10000002.000000      0.496935\n",
       "25%    10187585.000000      0.498155\n",
       "50%    10359769.000000      0.502580\n",
       "75%    10541131.000000      4.307502\n",
       "max    10717625.000000     21.622719"
      ]
     },
     "execution_count": 61,
     "metadata": {},
     "output_type": "execute_result"
    }
   ],
   "source": [
    "e = d[(15 <= d.cnt) &\n",
    "           ( 0.65 <= d.null_ratio)]\n",
    "tr = e[e.Expected != -1]\n",
    "trl = tr.Expected\n",
    "del tr['Expected']\n",
    "te = e[e.Expected == -1]\n",
    "tel = te.Expected\n",
    "del te['Expected']\n",
    "m = xgb.XGBRegressor(learning_rate=0.01, min_child_weight=1, n_estimators=1, max_depth=20)\n",
    "m.fit(tr, trl)\n",
    "te['Expected'] = m.predict(te)\n",
    "p9 = te[['Id', 'Expected']]\n",
    "p9.describe()"
   ]
  },
  {
   "cell_type": "code",
   "execution_count": 103,
   "metadata": {
    "collapsed": false
   },
   "outputs": [
    {
     "name": "stdout",
     "output_type": "stream",
     "text": [
      "<class 'pandas.core.frame.DataFrame'>\n",
      "Int64Index: 717625 entries, 1180954 to 1898569\n",
      "Data columns (total 2 columns):\n",
      "Id          717625 non-null int64\n",
      "Expected    717625 non-null float32\n",
      "dtypes: float32(1), int64(1)\n",
      "memory usage: 13.7 MB\n"
     ]
    }
   ],
   "source": [
    "p = pd.concat([p1, p2, p3, p4, p5, p6, p7, p8, p9])\n",
    "p.info()"
   ]
  },
  {
   "cell_type": "code",
   "execution_count": 104,
   "metadata": {
    "collapsed": false
   },
   "outputs": [
    {
     "data": {
      "text/html": [
       "<div>\n",
       "<table border=\"1\" class=\"dataframe\">\n",
       "  <thead>\n",
       "    <tr style=\"text-align: right;\">\n",
       "      <th></th>\n",
       "      <th>Id</th>\n",
       "      <th>Expected</th>\n",
       "    </tr>\n",
       "  </thead>\n",
       "  <tbody>\n",
       "    <tr>\n",
       "      <th>count</th>\n",
       "      <td>717625.000000</td>\n",
       "      <td>717625.000000</td>\n",
       "    </tr>\n",
       "    <tr>\n",
       "      <th>mean</th>\n",
       "      <td>10358813.000000</td>\n",
       "      <td>22.307453</td>\n",
       "    </tr>\n",
       "    <tr>\n",
       "      <th>std</th>\n",
       "      <td>207160.637862</td>\n",
       "      <td>138.205933</td>\n",
       "    </tr>\n",
       "    <tr>\n",
       "      <th>min</th>\n",
       "      <td>10000001.000000</td>\n",
       "      <td>-356.014343</td>\n",
       "    </tr>\n",
       "    <tr>\n",
       "      <th>25%</th>\n",
       "      <td>10179407.000000</td>\n",
       "      <td>0.502580</td>\n",
       "    </tr>\n",
       "    <tr>\n",
       "      <th>50%</th>\n",
       "      <td>10358813.000000</td>\n",
       "      <td>1.928623</td>\n",
       "    </tr>\n",
       "    <tr>\n",
       "      <th>75%</th>\n",
       "      <td>10538219.000000</td>\n",
       "      <td>7.196660</td>\n",
       "    </tr>\n",
       "    <tr>\n",
       "      <th>max</th>\n",
       "      <td>10717625.000000</td>\n",
       "      <td>25631.322266</td>\n",
       "    </tr>\n",
       "  </tbody>\n",
       "</table>\n",
       "</div>"
      ],
      "text/plain": [
       "                    Id       Expected\n",
       "count    717625.000000  717625.000000\n",
       "mean   10358813.000000      22.307453\n",
       "std      207160.637862     138.205933\n",
       "min    10000001.000000    -356.014343\n",
       "25%    10179407.000000       0.502580\n",
       "50%    10358813.000000       1.928623\n",
       "75%    10538219.000000       7.196660\n",
       "max    10717625.000000   25631.322266"
      ]
     },
     "execution_count": 104,
     "metadata": {},
     "output_type": "execute_result"
    }
   ],
   "source": [
    "p.describe()"
   ]
  },
  {
   "cell_type": "code",
   "execution_count": 105,
   "metadata": {
    "collapsed": false
   },
   "outputs": [
    {
     "name": "stdout",
     "output_type": "stream",
     "text": [
      "<class 'pandas.core.frame.DataFrame'>\n",
      "Int64Index: 717625 entries, 0 to 717624\n",
      "Data columns (total 2 columns):\n",
      "Id          717625 non-null int64\n",
      "Expected    717625 non-null float64\n",
      "dtypes: float64(1), int64(1)\n",
      "memory usage: 16.4 MB\n"
     ]
    }
   ],
   "source": [
    "s = pd.read_csv('input/sample_solution.csv')\n",
    "s.info()"
   ]
  },
  {
   "cell_type": "code",
   "execution_count": 106,
   "metadata": {
    "collapsed": false
   },
   "outputs": [
    {
     "name": "stdout",
     "output_type": "stream",
     "text": [
      "5295\n",
      "2963\n",
      "1683\n",
      "9732\n"
     ]
    }
   ],
   "source": [
    "print len(p[p.Expected > 500])\n",
    "print len(p[p.Expected > 1000])\n",
    "print len(p[p.Expected > 1500])\n",
    "print len(p[p.Expected < 0])"
   ]
  },
  {
   "cell_type": "code",
   "execution_count": 107,
   "metadata": {
    "collapsed": false
   },
   "outputs": [
    {
     "name": "stdout",
     "output_type": "stream",
     "text": [
      "0\n"
     ]
    },
    {
     "data": {
      "text/html": [
       "<div>\n",
       "<table border=\"1\" class=\"dataframe\">\n",
       "  <thead>\n",
       "    <tr style=\"text-align: right;\">\n",
       "      <th></th>\n",
       "      <th>Id</th>\n",
       "      <th>Expected</th>\n",
       "    </tr>\n",
       "  </thead>\n",
       "  <tbody>\n",
       "    <tr>\n",
       "      <th>count</th>\n",
       "      <td>717625.000000</td>\n",
       "      <td>717625.000000</td>\n",
       "    </tr>\n",
       "    <tr>\n",
       "      <th>mean</th>\n",
       "      <td>10358813.000000</td>\n",
       "      <td>22.349674</td>\n",
       "    </tr>\n",
       "    <tr>\n",
       "      <th>std</th>\n",
       "      <td>207160.637862</td>\n",
       "      <td>138.194351</td>\n",
       "    </tr>\n",
       "    <tr>\n",
       "      <th>min</th>\n",
       "      <td>10000001.000000</td>\n",
       "      <td>0.000000</td>\n",
       "    </tr>\n",
       "    <tr>\n",
       "      <th>25%</th>\n",
       "      <td>10179407.000000</td>\n",
       "      <td>0.502580</td>\n",
       "    </tr>\n",
       "    <tr>\n",
       "      <th>50%</th>\n",
       "      <td>10358813.000000</td>\n",
       "      <td>1.928623</td>\n",
       "    </tr>\n",
       "    <tr>\n",
       "      <th>75%</th>\n",
       "      <td>10538219.000000</td>\n",
       "      <td>7.196660</td>\n",
       "    </tr>\n",
       "    <tr>\n",
       "      <th>max</th>\n",
       "      <td>10717625.000000</td>\n",
       "      <td>25631.322266</td>\n",
       "    </tr>\n",
       "  </tbody>\n",
       "</table>\n",
       "</div>"
      ],
      "text/plain": [
       "                    Id       Expected\n",
       "count    717625.000000  717625.000000\n",
       "mean   10358813.000000      22.349674\n",
       "std      207160.637862     138.194351\n",
       "min    10000001.000000       0.000000\n",
       "25%    10179407.000000       0.502580\n",
       "50%    10358813.000000       1.928623\n",
       "75%    10538219.000000       7.196660\n",
       "max    10717625.000000   25631.322266"
      ]
     },
     "execution_count": 107,
     "metadata": {},
     "output_type": "execute_result"
    }
   ],
   "source": [
    "p.loc[p.Expected < 0,'Expected'] = 0\n",
    "print len(p[p.Expected < 0])\n",
    "p.describe()"
   ]
  },
  {
   "cell_type": "code",
   "execution_count": 108,
   "metadata": {
    "collapsed": false
   },
   "outputs": [],
   "source": [
    "p = p.sort_index()"
   ]
  },
  {
   "cell_type": "code",
   "execution_count": 109,
   "metadata": {
    "collapsed": false
   },
   "outputs": [
    {
     "name": "stdout",
     "output_type": "stream",
     "text": [
      "<class 'pandas.core.frame.DataFrame'>\n",
      "Int64Index: 717625 entries, 1180945 to 1898569\n",
      "Data columns (total 2 columns):\n",
      "Id          717625 non-null int64\n",
      "Expected    717625 non-null float32\n",
      "dtypes: float32(1), int64(1)\n",
      "memory usage: 13.7 MB\n"
     ]
    }
   ],
   "source": [
    "p.Id = p.Id - 10000000\n",
    "p.info()"
   ]
  },
  {
   "cell_type": "code",
   "execution_count": 110,
   "metadata": {
    "collapsed": false
   },
   "outputs": [
    {
     "data": {
      "text/html": [
       "<div>\n",
       "<table border=\"1\" class=\"dataframe\">\n",
       "  <thead>\n",
       "    <tr style=\"text-align: right;\">\n",
       "      <th></th>\n",
       "      <th>Id</th>\n",
       "      <th>Expected</th>\n",
       "    </tr>\n",
       "  </thead>\n",
       "  <tbody>\n",
       "    <tr>\n",
       "      <th>count</th>\n",
       "      <td>717625.0000</td>\n",
       "      <td>717625.000000</td>\n",
       "    </tr>\n",
       "    <tr>\n",
       "      <th>mean</th>\n",
       "      <td>358813.0000</td>\n",
       "      <td>22.368597</td>\n",
       "    </tr>\n",
       "    <tr>\n",
       "      <th>std</th>\n",
       "      <td>207160.6378</td>\n",
       "      <td>138.220184</td>\n",
       "    </tr>\n",
       "    <tr>\n",
       "      <th>min</th>\n",
       "      <td>1.0000</td>\n",
       "      <td>0.000000</td>\n",
       "    </tr>\n",
       "    <tr>\n",
       "      <th>25%</th>\n",
       "      <td>179407.0000</td>\n",
       "      <td>0.502580</td>\n",
       "    </tr>\n",
       "    <tr>\n",
       "      <th>50%</th>\n",
       "      <td>358813.0000</td>\n",
       "      <td>1.928623</td>\n",
       "    </tr>\n",
       "    <tr>\n",
       "      <th>75%</th>\n",
       "      <td>538219.0000</td>\n",
       "      <td>7.196660</td>\n",
       "    </tr>\n",
       "    <tr>\n",
       "      <th>max</th>\n",
       "      <td>717625.0000</td>\n",
       "      <td>25631.322266</td>\n",
       "    </tr>\n",
       "  </tbody>\n",
       "</table>\n",
       "</div>"
      ],
      "text/plain": [
       "                Id       Expected\n",
       "count  717625.0000  717625.000000\n",
       "mean   358813.0000      22.368597\n",
       "std    207160.6378     138.220184\n",
       "min         1.0000       0.000000\n",
       "25%    179407.0000       0.502580\n",
       "50%    358813.0000       1.928623\n",
       "75%    538219.0000       7.196660\n",
       "max    717625.0000   25631.322266"
      ]
     },
     "execution_count": 110,
     "metadata": {},
     "output_type": "execute_result"
    }
   ],
   "source": [
    "p.describe()"
   ]
  },
  {
   "cell_type": "code",
   "execution_count": 111,
   "metadata": {
    "collapsed": false
   },
   "outputs": [
    {
     "data": {
      "text/html": [
       "<div>\n",
       "<table border=\"1\" class=\"dataframe\">\n",
       "  <thead>\n",
       "    <tr style=\"text-align: right;\">\n",
       "      <th></th>\n",
       "      <th>Id</th>\n",
       "      <th>Expected</th>\n",
       "    </tr>\n",
       "  </thead>\n",
       "  <tbody>\n",
       "    <tr>\n",
       "      <th>1180945</th>\n",
       "      <td>1</td>\n",
       "      <td>0.740512</td>\n",
       "    </tr>\n",
       "    <tr>\n",
       "      <th>1180946</th>\n",
       "      <td>2</td>\n",
       "      <td>20.835949</td>\n",
       "    </tr>\n",
       "    <tr>\n",
       "      <th>1180947</th>\n",
       "      <td>3</td>\n",
       "      <td>2.284927</td>\n",
       "    </tr>\n",
       "    <tr>\n",
       "      <th>1180948</th>\n",
       "      <td>4</td>\n",
       "      <td>7.802657</td>\n",
       "    </tr>\n",
       "    <tr>\n",
       "      <th>1180949</th>\n",
       "      <td>5</td>\n",
       "      <td>0.490816</td>\n",
       "    </tr>\n",
       "    <tr>\n",
       "      <th>1180950</th>\n",
       "      <td>6</td>\n",
       "      <td>21.927244</td>\n",
       "    </tr>\n",
       "    <tr>\n",
       "      <th>1180951</th>\n",
       "      <td>7</td>\n",
       "      <td>3.133545</td>\n",
       "    </tr>\n",
       "    <tr>\n",
       "      <th>1180952</th>\n",
       "      <td>8</td>\n",
       "      <td>11.977553</td>\n",
       "    </tr>\n",
       "    <tr>\n",
       "      <th>1180953</th>\n",
       "      <td>9</td>\n",
       "      <td>211.697281</td>\n",
       "    </tr>\n",
       "    <tr>\n",
       "      <th>1180954</th>\n",
       "      <td>10</td>\n",
       "      <td>0.866120</td>\n",
       "    </tr>\n",
       "    <tr>\n",
       "      <th>1180955</th>\n",
       "      <td>11</td>\n",
       "      <td>1.729451</td>\n",
       "    </tr>\n",
       "    <tr>\n",
       "      <th>1180956</th>\n",
       "      <td>12</td>\n",
       "      <td>1.005997</td>\n",
       "    </tr>\n",
       "    <tr>\n",
       "      <th>1180957</th>\n",
       "      <td>13</td>\n",
       "      <td>3.912212</td>\n",
       "    </tr>\n",
       "    <tr>\n",
       "      <th>1180958</th>\n",
       "      <td>14</td>\n",
       "      <td>14.148565</td>\n",
       "    </tr>\n",
       "    <tr>\n",
       "      <th>1180959</th>\n",
       "      <td>15</td>\n",
       "      <td>58.974983</td>\n",
       "    </tr>\n",
       "    <tr>\n",
       "      <th>1180960</th>\n",
       "      <td>16</td>\n",
       "      <td>0.481924</td>\n",
       "    </tr>\n",
       "    <tr>\n",
       "      <th>1180961</th>\n",
       "      <td>17</td>\n",
       "      <td>0.483201</td>\n",
       "    </tr>\n",
       "    <tr>\n",
       "      <th>1180962</th>\n",
       "      <td>18</td>\n",
       "      <td>3.273473</td>\n",
       "    </tr>\n",
       "    <tr>\n",
       "      <th>1180963</th>\n",
       "      <td>19</td>\n",
       "      <td>7.933052</td>\n",
       "    </tr>\n",
       "    <tr>\n",
       "      <th>1180964</th>\n",
       "      <td>20</td>\n",
       "      <td>58.974983</td>\n",
       "    </tr>\n",
       "  </tbody>\n",
       "</table>\n",
       "</div>"
      ],
      "text/plain": [
       "         Id    Expected\n",
       "1180945   1    0.740512\n",
       "1180946   2   20.835949\n",
       "1180947   3    2.284927\n",
       "1180948   4    7.802657\n",
       "1180949   5    0.490816\n",
       "1180950   6   21.927244\n",
       "1180951   7    3.133545\n",
       "1180952   8   11.977553\n",
       "1180953   9  211.697281\n",
       "1180954  10    0.866120\n",
       "1180955  11    1.729451\n",
       "1180956  12    1.005997\n",
       "1180957  13    3.912212\n",
       "1180958  14   14.148565\n",
       "1180959  15   58.974983\n",
       "1180960  16    0.481924\n",
       "1180961  17    0.483201\n",
       "1180962  18    3.273473\n",
       "1180963  19    7.933052\n",
       "1180964  20   58.974983"
      ]
     },
     "execution_count": 111,
     "metadata": {},
     "output_type": "execute_result"
    }
   ],
   "source": [
    "p[:20]"
   ]
  },
  {
   "cell_type": "code",
   "execution_count": 112,
   "metadata": {
    "collapsed": true
   },
   "outputs": [],
   "source": [
    "p.to_csv('output/s_07.csv', index=False)"
   ]
  },
  {
   "cell_type": "code",
   "execution_count": 113,
   "metadata": {
    "collapsed": true
   },
   "outputs": [],
   "source": [
    "p.loc[p.Expected > 100,'Expected'] = 100"
   ]
  },
  {
   "cell_type": "code",
   "execution_count": 114,
   "metadata": {
    "collapsed": true
   },
   "outputs": [],
   "source": [
    "p.to_csv('output/s_08.csv', index=False)"
   ]
  }
 ],
 "metadata": {
  "kernelspec": {
   "display_name": "Python 2",
   "language": "python",
   "name": "python2"
  },
  "language_info": {
   "codemirror_mode": {
    "name": "ipython",
    "version": 2
   },
   "file_extension": ".py",
   "mimetype": "text/x-python",
   "name": "python",
   "nbconvert_exporter": "python",
   "pygments_lexer": "ipython2",
   "version": "2.7.10"
  }
 },
 "nbformat": 4,
 "nbformat_minor": 0
}
