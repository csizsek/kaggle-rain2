{
 "cells": [
  {
   "cell_type": "code",
   "execution_count": 13,
   "metadata": {
    "collapsed": false
   },
   "outputs": [],
   "source": [
    "import pandas as pd\n",
    "import numpy as np\n",
    "from pandas import DataFrame, Series\n",
    "import matplotlib.pyplot as plt"
   ]
  },
  {
   "cell_type": "code",
   "execution_count": 14,
   "metadata": {
    "collapsed": true
   },
   "outputs": [],
   "source": [
    "d = pd.read_csv('tmp/grouped.csv')"
   ]
  },
  {
   "cell_type": "code",
   "execution_count": 15,
   "metadata": {
    "collapsed": false
   },
   "outputs": [
    {
     "name": "stdout",
     "output_type": "stream",
     "text": [
      "['Id', 'minutes_past_mean', 'minutes_past_std', 'null_ratio', 'radardist_km_max', 'radardist_km_min', 'radardist_km_mean', 'cnt', 'minutes_past_min', 'minutes_past_max', 'Ref_mean_per_RefComposite_5x5_10th_max', 'RefComposite_min', 'Zdr_5x5_90th_std', 'RefComposite_5x5_90th_mean_per_Ref_5x5_90th_max', 'Zdr_5x5_90th_max_per_RhoHV_5x5_90th_max', 'RefComposite_max_per_RefComposite_5x5_90th_max', 'Zdr_5x5_90th_min_per_RhoHV_5x5_90th_max', 'Zdr_5x5_90th_mean_per_RhoHV_5x5_90th_max', 'Ref_5x5_90th_max', 'RhoHV_5x5_90th_min_per_Zdr_5x5_90th_max', 'RefComposite_5x5_90th_max', 'RefComposite_std', 'RefComposite_max_per_Ref_5x5_90th_max', 'Kdp_min_per_Kdp_5x5_50th_mean', 'RefComposite_5x5_90th_mean', 'RefComposite_5x5_90th_min', 'Zdr_5x5_90th_min_per_Ref_5x5_90th_max', 'Kdp_5x5_50th_max_per_Kdp_5x5_50th_mean', 'Zdr_5x5_90th_max_per_RhoHV_5x5_90th_mean', 'Zdr_5x5_90th_mean_per_Zdr_max', 'Kdp_min_per_Kdp_mean', 'Zdr_mean_per_Zdr_5x5_90th_mean', 'Kdp_5x5_90th_min_per_Zdr_5x5_90th_max', 'Ref_5x5_90th_max_per_RefComposite_5x5_90th_max', 'Zdr_5x5_90th_max_per_RhoHV_5x5_90th_min', 'RefComposite_5x5_50th_max_per_Ref_5x5_90th_max', 'Ref_5x5_90th_min_per_RefComposite_5x5_90th_mean', 'RhoHV_5x5_90th_mean_per_RefComposite_5x5_90th_max', 'Zdr_5x5_50th_mean_per_Zdr_5x5_90th_min', 'Zdr_5x5_90th_max_per_RhoHV_max', 'Zdr_5x5_90th_mean_per_RhoHV_5x5_90th_min', 'Ref_5x5_10th_mean_per_RefComposite_5x5_90th_mean', 'Ref_5x5_90th_min_per_Ref_5x5_90th_max', 'Zdr_5x5_90th_mean_per_RhoHV_5x5_90th_mean', 'Zdr_5x5_90th_mean_per_Ref_5x5_90th_max', 'Ref_mean_per_Kdp_5x5_50th_max', 'Ref_5x5_50th_min_per_Kdp_5x5_50th_min', 'RefComposite_5x5_10th_max_per_RefComposite_5x5_10th_mean', 'RhoHV_5x5_90th_max', 'Kdp_5x5_90th_min_per_Zdr_5x5_50th_max', 'Zdr_5x5_90th_mean', 'Ref_5x5_50th_mean_per_RefComposite_5x5_50th_max', 'Ref_5x5_90th_max_per_Ref_5x5_90th_min', 'Zdr_5x5_90th_min_per_RhoHV_5x5_90th_mean', 'RefComposite_mean_per_RefComposite_5x5_90th_max']\n"
     ]
    }
   ],
   "source": [
    "important_features = []\n",
    "with open('important_features.txt') as f:\n",
    "    important_features = f.readlines()\n",
    "important_features = [f.strip() for f in important_features][:55]\n",
    "print important_features"
   ]
  },
  {
   "cell_type": "code",
   "execution_count": 16,
   "metadata": {
    "collapsed": false
   },
   "outputs": [],
   "source": [
    "base_metrics = [\n",
    "    'Ref',\n",
    "    'RefComposite',\n",
    "    'RhoHV',\n",
    "    'Zdr',\n",
    "    'Kdp'\n",
    "]\n",
    "metric_modifiers = [\n",
    "    '',\n",
    "    '_5x5_10th',\n",
    "    '_5x5_50th',\n",
    "    '_5x5_90th'\n",
    "]\n",
    "metric_stats = [\n",
    "    '_mean',\n",
    "    '_min',\n",
    "    '_max'\n",
    "]\n",
    "for bm1 in base_metrics:\n",
    "    for mm1 in metric_modifiers:\n",
    "        for ms1 in metric_stats:\n",
    "            for bm2 in base_metrics:\n",
    "                for mm2 in metric_modifiers:\n",
    "                    for ms2 in metric_stats:\n",
    "                        m1 = bm1 + mm1 + ms1\n",
    "                        m2 = bm2 + mm2 + ms2\n",
    "                        new_metric = m1 + '_per_' + m2\n",
    "                        if new_metric in important_features:\n",
    "                            d[new_metric] = d[m1] / d[m2]"
   ]
  },
  {
   "cell_type": "code",
   "execution_count": 17,
   "metadata": {
    "collapsed": false
   },
   "outputs": [
    {
     "name": "stdout",
     "output_type": "stream",
     "text": [
      "['Id', 'Expected', 'cnt', 'null_ratio', 'minutes_past_mean', 'minutes_past_min', 'minutes_past_max', 'minutes_past_std', 'radardist_km_mean', 'radardist_km_min', 'radardist_km_max', 'radardist_km_std', 'Ref_mean', 'Ref_min', 'Ref_max', 'Ref_std', 'Ref_5x5_10th_mean', 'Ref_5x5_10th_min', 'Ref_5x5_10th_max', 'Ref_5x5_10th_std', 'Ref_5x5_50th_mean', 'Ref_5x5_50th_min', 'Ref_5x5_50th_max', 'Ref_5x5_50th_std', 'Ref_5x5_90th_mean', 'Ref_5x5_90th_min', 'Ref_5x5_90th_max', 'Ref_5x5_90th_std', 'RefComposite_mean', 'RefComposite_min', 'RefComposite_max', 'RefComposite_std', 'RefComposite_5x5_10th_mean', 'RefComposite_5x5_10th_min', 'RefComposite_5x5_10th_max', 'RefComposite_5x5_10th_std', 'RefComposite_5x5_50th_mean', 'RefComposite_5x5_50th_min', 'RefComposite_5x5_50th_max', 'RefComposite_5x5_50th_std', 'RefComposite_5x5_90th_mean', 'RefComposite_5x5_90th_min', 'RefComposite_5x5_90th_max', 'RefComposite_5x5_90th_std', 'RhoHV_mean', 'RhoHV_min', 'RhoHV_max', 'RhoHV_std', 'RhoHV_5x5_10th_mean', 'RhoHV_5x5_10th_min', 'RhoHV_5x5_10th_max', 'RhoHV_5x5_10th_std', 'RhoHV_5x5_50th_mean', 'RhoHV_5x5_50th_min', 'RhoHV_5x5_50th_max', 'RhoHV_5x5_50th_std', 'RhoHV_5x5_90th_mean', 'RhoHV_5x5_90th_min', 'RhoHV_5x5_90th_max', 'RhoHV_5x5_90th_std', 'Zdr_mean', 'Zdr_min', 'Zdr_max', 'Zdr_std', 'Zdr_5x5_10th_mean', 'Zdr_5x5_10th_min', 'Zdr_5x5_10th_max', 'Zdr_5x5_10th_std', 'Zdr_5x5_50th_mean', 'Zdr_5x5_50th_min', 'Zdr_5x5_50th_max', 'Zdr_5x5_50th_std', 'Zdr_5x5_90th_mean', 'Zdr_5x5_90th_min', 'Zdr_5x5_90th_max', 'Zdr_5x5_90th_std', 'Kdp_mean', 'Kdp_min', 'Kdp_max', 'Kdp_std', 'Kdp_5x5_10th_mean', 'Kdp_5x5_10th_min', 'Kdp_5x5_10th_max', 'Kdp_5x5_10th_std', 'Kdp_5x5_50th_mean', 'Kdp_5x5_50th_min', 'Kdp_5x5_50th_max', 'Kdp_5x5_50th_std', 'Kdp_5x5_90th_mean', 'Kdp_5x5_90th_min', 'Kdp_5x5_90th_max', 'Kdp_5x5_90th_std', 'Ref_mean_per_RefComposite_5x5_10th_max', 'Ref_mean_per_Kdp_5x5_50th_max', 'Ref_5x5_10th_mean_per_RefComposite_5x5_90th_mean', 'Ref_5x5_50th_mean_per_RefComposite_5x5_50th_max', 'Ref_5x5_50th_min_per_Kdp_5x5_50th_min', 'Ref_5x5_90th_min_per_Ref_5x5_90th_max', 'Ref_5x5_90th_min_per_RefComposite_5x5_90th_mean', 'Ref_5x5_90th_max_per_Ref_5x5_90th_min', 'Ref_5x5_90th_max_per_RefComposite_5x5_90th_max', 'RefComposite_mean_per_RefComposite_5x5_90th_max', 'RefComposite_max_per_Ref_5x5_90th_max', 'RefComposite_max_per_RefComposite_5x5_90th_max', 'RefComposite_5x5_10th_max_per_RefComposite_5x5_10th_mean', 'RefComposite_5x5_50th_max_per_Ref_5x5_90th_max', 'RefComposite_5x5_90th_mean_per_Ref_5x5_90th_max', 'RhoHV_5x5_90th_mean_per_RefComposite_5x5_90th_max', 'RhoHV_5x5_90th_min_per_Zdr_5x5_90th_max', 'Zdr_mean_per_Zdr_5x5_90th_mean', 'Zdr_5x5_50th_mean_per_Zdr_5x5_90th_min', 'Zdr_5x5_90th_mean_per_Ref_5x5_90th_max', 'Zdr_5x5_90th_mean_per_RhoHV_5x5_90th_mean', 'Zdr_5x5_90th_mean_per_RhoHV_5x5_90th_min', 'Zdr_5x5_90th_mean_per_RhoHV_5x5_90th_max', 'Zdr_5x5_90th_mean_per_Zdr_max', 'Zdr_5x5_90th_min_per_Ref_5x5_90th_max', 'Zdr_5x5_90th_min_per_RhoHV_5x5_90th_mean', 'Zdr_5x5_90th_min_per_RhoHV_5x5_90th_max', 'Zdr_5x5_90th_max_per_RhoHV_max', 'Zdr_5x5_90th_max_per_RhoHV_5x5_90th_mean', 'Zdr_5x5_90th_max_per_RhoHV_5x5_90th_min', 'Zdr_5x5_90th_max_per_RhoHV_5x5_90th_max', 'Kdp_min_per_Kdp_mean', 'Kdp_min_per_Kdp_5x5_50th_mean', 'Kdp_5x5_50th_max_per_Kdp_5x5_50th_mean', 'Kdp_5x5_90th_min_per_Zdr_5x5_50th_max', 'Kdp_5x5_90th_min_per_Zdr_5x5_90th_max']\n"
     ]
    }
   ],
   "source": [
    "print d.columns.tolist()"
   ]
  },
  {
   "cell_type": "code",
   "execution_count": 18,
   "metadata": {
    "collapsed": true
   },
   "outputs": [],
   "source": [
    "for c in d.columns[:92]:\n",
    "    if c.endswith('_min') or c.endswith('_max'):\n",
    "        del d[c]"
   ]
  },
  {
   "cell_type": "code",
   "execution_count": 19,
   "metadata": {
    "collapsed": false
   },
   "outputs": [
    {
     "name": "stdout",
     "output_type": "stream",
     "text": [
      "84\n"
     ]
    }
   ],
   "source": [
    "print len(d.columns.tolist())"
   ]
  },
  {
   "cell_type": "code",
   "execution_count": 20,
   "metadata": {
    "collapsed": true
   },
   "outputs": [],
   "source": [
    "d = d.replace([np.inf, -np.inf], 0)\n",
    "d = d.fillna(0)"
   ]
  },
  {
   "cell_type": "code",
   "execution_count": 21,
   "metadata": {
    "collapsed": true
   },
   "outputs": [],
   "source": [
    "d.to_csv('tmp/engineered_features_01.csv', index=False)"
   ]
  }
 ],
 "metadata": {
  "kernelspec": {
   "display_name": "Python 2",
   "language": "python",
   "name": "python2"
  },
  "language_info": {
   "codemirror_mode": {
    "name": "ipython",
    "version": 2
   },
   "file_extension": ".py",
   "mimetype": "text/x-python",
   "name": "python",
   "nbconvert_exporter": "python",
   "pygments_lexer": "ipython2",
   "version": "2.7.10"
  }
 },
 "nbformat": 4,
 "nbformat_minor": 0
}
